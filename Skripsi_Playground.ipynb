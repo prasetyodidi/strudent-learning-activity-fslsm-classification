{
 "cells": [
  {
   "cell_type": "code",
   "execution_count": 9,
   "metadata": {
    "colab": {
     "base_uri": "https://localhost:8080/"
    },
    "id": "vnlrPlX105Iq",
    "outputId": "8790ad21-b877-4f50-b1c9-4a339a2be9a6"
   },
   "outputs": [
    {
     "name": "stdout",
     "output_type": "stream",
     "text": [
      "pandas version: 2.3.3\n",
      "numpy version: 2.3.4\n",
      "matplotlib version: 3.10.7\n"
     ]
    }
   ],
   "source": [
    "import pandas as pd\n",
    "import numpy as np\n",
    "import matplotlib.pyplot as plt\n",
    "import matplotlib\n",
    "from sklearn.preprocessing import MultiLabelBinarizer\n",
    "from sklearn.model_selection import train_test_split\n",
    "from sklearn.ensemble import RandomForestClassifier\n",
    "from sklearn.multioutput import MultiOutputClassifier\n",
    "from sklearn.metrics import classification_report\n",
    "import joblib\n",
    "\n",
    "print(\"pandas version:\", pd.__version__)\n",
    "print(\"numpy version:\", np.__version__)\n",
    "print(\"matplotlib version:\", matplotlib.__version__)  # Access __version__ from matplotlib"
   ]
  },
  {
   "cell_type": "code",
   "execution_count": 10,
   "metadata": {
    "colab": {
     "base_uri": "https://localhost:8080/"
    },
    "id": "1YQGoxf_yYxw",
    "outputId": "1ff4991d-125b-47ad-d372-7178ac2551fc"
   },
   "outputs": [],
   "source": [
    "# Local file paths - replace Google Colab paths\n",
    "# Note: Google Drive integration only works in Google Colab environment\n",
    "# For local usage, we use relative paths to dataset folder"
   ]
  },
  {
   "cell_type": "markdown",
   "metadata": {
    "id": "lHmiZJ1q1RMx"
   },
   "source": []
  },
  {
   "cell_type": "markdown",
   "metadata": {
    "id": "-X3EAhjD1N5Q"
   },
   "source": [
    "# Dataset"
   ]
  },
  {
   "cell_type": "markdown",
   "metadata": {
    "id": "1RPTl_XZGOHb"
   },
   "source": [
    "rekap-volunter-28-agustus.csv"
   ]
  },
  {
   "cell_type": "code",
   "execution_count": 11,
   "metadata": {
    "colab": {
     "base_uri": "https://localhost:8080/",
     "height": 365
    },
    "id": "F6orfSWC2AAh",
    "outputId": "ca1a6ef1-7a40-4ecc-e197-f6fb4aec8ba0"
   },
   "outputs": [
    {
     "data": {
      "text/html": [
       "<div>\n",
       "<style scoped>\n",
       "    .dataframe tbody tr th:only-of-type {\n",
       "        vertical-align: middle;\n",
       "    }\n",
       "\n",
       "    .dataframe tbody tr th {\n",
       "        vertical-align: top;\n",
       "    }\n",
       "\n",
       "    .dataframe thead th {\n",
       "        text-align: right;\n",
       "    }\n",
       "</style>\n",
       "<table border=\"1\" class=\"dataframe\">\n",
       "  <thead>\n",
       "    <tr style=\"text-align: right;\">\n",
       "      <th></th>\n",
       "      <th>NAMA</th>\n",
       "      <th>NAMA_DEPT</th>\n",
       "      <th>npm</th>\n",
       "      <th>time_materi_video</th>\n",
       "      <th>time_materi_dokumen</th>\n",
       "      <th>time_materi_artikel</th>\n",
       "      <th>time_task</th>\n",
       "      <th>time_quiz</th>\n",
       "      <th>time_material</th>\n",
       "      <th>time_forum</th>\n",
       "      <th>total_time</th>\n",
       "      <th>time</th>\n",
       "    </tr>\n",
       "  </thead>\n",
       "  <tbody>\n",
       "    <tr>\n",
       "      <th>0</th>\n",
       "      <td>Abi Rizki Hidayat</td>\n",
       "      <td>Sistem Informasi</td>\n",
       "      <td>882006580948</td>\n",
       "      <td>1199</td>\n",
       "      <td>7461</td>\n",
       "      <td>5262</td>\n",
       "      <td>9016</td>\n",
       "      <td>0</td>\n",
       "      <td>13922</td>\n",
       "      <td>5</td>\n",
       "      <td>36865</td>\n",
       "      <td>10:14:25</td>\n",
       "    </tr>\n",
       "    <tr>\n",
       "      <th>1</th>\n",
       "      <td>Abimantrana Agra Prartana</td>\n",
       "      <td>Bisnis Digital</td>\n",
       "      <td>81246862329</td>\n",
       "      <td>10051</td>\n",
       "      <td>21252</td>\n",
       "      <td>11170</td>\n",
       "      <td>65</td>\n",
       "      <td>0</td>\n",
       "      <td>42473</td>\n",
       "      <td>0</td>\n",
       "      <td>85011</td>\n",
       "      <td>23:36:51</td>\n",
       "    </tr>\n",
       "    <tr>\n",
       "      <th>2</th>\n",
       "      <td>Achmad Sahlan</td>\n",
       "      <td>Teknologi Informasi</td>\n",
       "      <td>882006661211</td>\n",
       "      <td>7520</td>\n",
       "      <td>1155</td>\n",
       "      <td>607</td>\n",
       "      <td>98</td>\n",
       "      <td>0</td>\n",
       "      <td>9282</td>\n",
       "      <td>0</td>\n",
       "      <td>18662</td>\n",
       "      <td>5:11:02</td>\n",
       "    </tr>\n",
       "    <tr>\n",
       "      <th>3</th>\n",
       "      <td>Adinda Rizkya Putri Wibawa</td>\n",
       "      <td>Ilmu Komunikasi</td>\n",
       "      <td>82220754285</td>\n",
       "      <td>190</td>\n",
       "      <td>5352</td>\n",
       "      <td>1940</td>\n",
       "      <td>5</td>\n",
       "      <td>0</td>\n",
       "      <td>7482</td>\n",
       "      <td>0</td>\n",
       "      <td>14969</td>\n",
       "      <td>4:09:29</td>\n",
       "    </tr>\n",
       "    <tr>\n",
       "      <th>4</th>\n",
       "      <td>ADITYA SAPUTRA DARMAWAN</td>\n",
       "      <td>Sistem Informasi</td>\n",
       "      <td>82241354470</td>\n",
       "      <td>68</td>\n",
       "      <td>145</td>\n",
       "      <td>183</td>\n",
       "      <td>10</td>\n",
       "      <td>0</td>\n",
       "      <td>396</td>\n",
       "      <td>0</td>\n",
       "      <td>802</td>\n",
       "      <td>0:13:22</td>\n",
       "    </tr>\n",
       "  </tbody>\n",
       "</table>\n",
       "</div>"
      ],
      "text/plain": [
       "                          NAMA            NAMA_DEPT           npm  \\\n",
       "0            Abi Rizki Hidayat     Sistem Informasi  882006580948   \n",
       "1   Abimantrana Agra Prartana        Bisnis Digital   81246862329   \n",
       "2                Achmad Sahlan  Teknologi Informasi  882006661211   \n",
       "3  Adinda Rizkya Putri Wibawa       Ilmu Komunikasi   82220754285   \n",
       "4      ADITYA SAPUTRA DARMAWAN     Sistem Informasi   82241354470   \n",
       "\n",
       "   time_materi_video  time_materi_dokumen  time_materi_artikel  time_task  \\\n",
       "0               1199                 7461                 5262       9016   \n",
       "1              10051                21252                11170         65   \n",
       "2               7520                 1155                  607         98   \n",
       "3                190                 5352                 1940          5   \n",
       "4                 68                  145                  183         10   \n",
       "\n",
       "   time_quiz  time_material  time_forum  total_time      time  \n",
       "0          0          13922           5       36865  10:14:25  \n",
       "1          0          42473           0       85011  23:36:51  \n",
       "2          0           9282           0       18662   5:11:02  \n",
       "3          0           7482           0       14969   4:09:29  \n",
       "4          0            396           0         802   0:13:22  "
      ]
     },
     "execution_count": 11,
     "metadata": {},
     "output_type": "execute_result"
    }
   ],
   "source": [
    "data_path_vle = \"dataset/rekap-volunter-28-agustus.csv.xlsx - rekap-volunter-28-agustus.csv\"\n",
    "df_rekap_volunteer = pd.read_csv(data_path_vle)\n",
    "df_rekap_volunteer.head()"
   ]
  },
  {
   "cell_type": "markdown",
   "metadata": {
    "id": "YzNt4gNsGZES"
   },
   "source": [
    "dfjadi.csv"
   ]
  },
  {
   "cell_type": "code",
   "execution_count": 12,
   "metadata": {
    "colab": {
     "base_uri": "https://localhost:8080/",
     "height": 469
    },
    "id": "RhXjTNcKRzes",
    "outputId": "a877538c-bab7-429d-f7e9-cb4cd8471f22"
   },
   "outputs": [
    {
     "data": {
      "text/html": [
       "<div>\n",
       "<style scoped>\n",
       "    .dataframe tbody tr th:only-of-type {\n",
       "        vertical-align: middle;\n",
       "    }\n",
       "\n",
       "    .dataframe tbody tr th {\n",
       "        vertical-align: top;\n",
       "    }\n",
       "\n",
       "    .dataframe thead th {\n",
       "        text-align: right;\n",
       "    }\n",
       "</style>\n",
       "<table border=\"1\" class=\"dataframe\">\n",
       "  <thead>\n",
       "    <tr style=\"text-align: right;\">\n",
       "      <th></th>\n",
       "      <th>NIM</th>\n",
       "      <th>Nama</th>\n",
       "      <th>Jenis Kelamin</th>\n",
       "      <th>Prodi</th>\n",
       "      <th>Skor 1</th>\n",
       "      <th>Skor 2</th>\n",
       "      <th>Skor 3</th>\n",
       "      <th>Skor 4</th>\n",
       "      <th>Pemrosesan</th>\n",
       "      <th>Persepsi</th>\n",
       "      <th>Input</th>\n",
       "      <th>Pemahaman</th>\n",
       "    </tr>\n",
       "  </thead>\n",
       "  <tbody>\n",
       "    <tr>\n",
       "      <th>0</th>\n",
       "      <td>22SA11A074</td>\n",
       "      <td>Mohamad Ridho Mubarok</td>\n",
       "      <td>Laki-laki</td>\n",
       "      <td>Informatika</td>\n",
       "      <td>-1</td>\n",
       "      <td>1</td>\n",
       "      <td>-3</td>\n",
       "      <td>-3</td>\n",
       "      <td>Reflektif Rendah</td>\n",
       "      <td>Sensing Rendah</td>\n",
       "      <td>Verbal Rendah</td>\n",
       "      <td>Global Rendah</td>\n",
       "    </tr>\n",
       "    <tr>\n",
       "      <th>1</th>\n",
       "      <td>22SA11A134</td>\n",
       "      <td>Maria Angelina Cahyani Candrakasih</td>\n",
       "      <td>Perempuan</td>\n",
       "      <td>Informatika</td>\n",
       "      <td>1</td>\n",
       "      <td>-3</td>\n",
       "      <td>-5</td>\n",
       "      <td>1</td>\n",
       "      <td>Aktif Rendah</td>\n",
       "      <td>Intuitif Rendah</td>\n",
       "      <td>Verbal Sedang</td>\n",
       "      <td>Sequential Rendah</td>\n",
       "    </tr>\n",
       "    <tr>\n",
       "      <th>2</th>\n",
       "      <td>22SA31A027</td>\n",
       "      <td>Tresnanda Agsifa Cakra Buana</td>\n",
       "      <td>Laki-laki</td>\n",
       "      <td>Teknologi Informasi</td>\n",
       "      <td>-5</td>\n",
       "      <td>5</td>\n",
       "      <td>1</td>\n",
       "      <td>1</td>\n",
       "      <td>Reflektif Sedang</td>\n",
       "      <td>Sensing Sedang</td>\n",
       "      <td>Visual Rendah</td>\n",
       "      <td>Sequential Rendah</td>\n",
       "    </tr>\n",
       "    <tr>\n",
       "      <th>3</th>\n",
       "      <td>22sa11a038</td>\n",
       "      <td>Ndaru Febrian Pujo Leksono</td>\n",
       "      <td>Laki-laki</td>\n",
       "      <td>Informatika</td>\n",
       "      <td>-1</td>\n",
       "      <td>1</td>\n",
       "      <td>-7</td>\n",
       "      <td>-3</td>\n",
       "      <td>Reflektif Rendah</td>\n",
       "      <td>Sensing Rendah</td>\n",
       "      <td>Verbal Sedang</td>\n",
       "      <td>Global Rendah</td>\n",
       "    </tr>\n",
       "    <tr>\n",
       "      <th>4</th>\n",
       "      <td>22SA11A035</td>\n",
       "      <td>Nurul Khotimah Ansyari</td>\n",
       "      <td>Perempuan</td>\n",
       "      <td>Informatika</td>\n",
       "      <td>-5</td>\n",
       "      <td>-1</td>\n",
       "      <td>-5</td>\n",
       "      <td>3</td>\n",
       "      <td>Reflektif Sedang</td>\n",
       "      <td>Intuitif Rendah</td>\n",
       "      <td>Verbal Sedang</td>\n",
       "      <td>Sequential Rendah</td>\n",
       "    </tr>\n",
       "  </tbody>\n",
       "</table>\n",
       "</div>"
      ],
      "text/plain": [
       "          NIM                                Nama Jenis Kelamin  \\\n",
       "0  22SA11A074               Mohamad Ridho Mubarok     Laki-laki   \n",
       "1  22SA11A134  Maria Angelina Cahyani Candrakasih     Perempuan   \n",
       "2  22SA31A027        Tresnanda Agsifa Cakra Buana     Laki-laki   \n",
       "3  22sa11a038          Ndaru Febrian Pujo Leksono     Laki-laki   \n",
       "4  22SA11A035              Nurul Khotimah Ansyari     Perempuan   \n",
       "\n",
       "                 Prodi  Skor 1  Skor 2  Skor 3  Skor 4        Pemrosesan  \\\n",
       "0          Informatika      -1       1      -3      -3  Reflektif Rendah   \n",
       "1          Informatika       1      -3      -5       1      Aktif Rendah   \n",
       "2  Teknologi Informasi      -5       5       1       1  Reflektif Sedang   \n",
       "3          Informatika      -1       1      -7      -3  Reflektif Rendah   \n",
       "4          Informatika      -5      -1      -5       3  Reflektif Sedang   \n",
       "\n",
       "          Persepsi          Input          Pemahaman  \n",
       "0   Sensing Rendah  Verbal Rendah      Global Rendah  \n",
       "1  Intuitif Rendah  Verbal Sedang  Sequential Rendah  \n",
       "2   Sensing Sedang  Visual Rendah  Sequential Rendah  \n",
       "3   Sensing Rendah  Verbal Sedang      Global Rendah  \n",
       "4  Intuitif Rendah  Verbal Sedang  Sequential Rendah  "
      ]
     },
     "execution_count": 12,
     "metadata": {},
     "output_type": "execute_result"
    }
   ],
   "source": [
    "data_path_vle = \"dataset/dfjadi-simplified - dfjadi-simplified.csv\"\n",
    "df_jadi = pd.read_csv(data_path_vle)\n",
    "df_jadi.head()"
   ]
  },
  {
   "cell_type": "markdown",
   "metadata": {
    "id": "sUjyf_O7eZYq"
   },
   "source": [
    "rekap.csv"
   ]
  },
  {
   "cell_type": "code",
   "execution_count": 13,
   "metadata": {
    "colab": {
     "base_uri": "https://localhost:8080/",
     "height": 206
    },
    "id": "4psGdeTTeXkg",
    "outputId": "cd7197de-8ea3-4be3-b700-0aabda51aa14"
   },
   "outputs": [
    {
     "data": {
      "text/html": [
       "<div>\n",
       "<style scoped>\n",
       "    .dataframe tbody tr th:only-of-type {\n",
       "        vertical-align: middle;\n",
       "    }\n",
       "\n",
       "    .dataframe tbody tr th {\n",
       "        vertical-align: top;\n",
       "    }\n",
       "\n",
       "    .dataframe thead th {\n",
       "        text-align: right;\n",
       "    }\n",
       "</style>\n",
       "<table border=\"1\" class=\"dataframe\">\n",
       "  <thead>\n",
       "    <tr style=\"text-align: right;\">\n",
       "      <th></th>\n",
       "      <th>NPM</th>\n",
       "      <th>NAMA</th>\n",
       "      <th>time_materials</th>\n",
       "      <th>time_tasks</th>\n",
       "      <th>time_forums</th>\n",
       "      <th>time_quizzes</th>\n",
       "    </tr>\n",
       "  </thead>\n",
       "  <tbody>\n",
       "    <tr>\n",
       "      <th>0</th>\n",
       "      <td>MHS001</td>\n",
       "      <td>Mahasiswa Pertama</td>\n",
       "      <td>0</td>\n",
       "      <td>0</td>\n",
       "      <td>0</td>\n",
       "      <td>0</td>\n",
       "    </tr>\n",
       "    <tr>\n",
       "      <th>1</th>\n",
       "      <td>21SA1090</td>\n",
       "      <td>Bobit</td>\n",
       "      <td>0</td>\n",
       "      <td>0</td>\n",
       "      <td>5</td>\n",
       "      <td>0</td>\n",
       "    </tr>\n",
       "    <tr>\n",
       "      <th>2</th>\n",
       "      <td>MHSIF001</td>\n",
       "      <td>Mahasiswa IF 1</td>\n",
       "      <td>19636</td>\n",
       "      <td>1009</td>\n",
       "      <td>2959</td>\n",
       "      <td>0</td>\n",
       "    </tr>\n",
       "    <tr>\n",
       "      <th>3</th>\n",
       "      <td>MHSIF002</td>\n",
       "      <td>Mahasiswa IF 2</td>\n",
       "      <td>0</td>\n",
       "      <td>0</td>\n",
       "      <td>0</td>\n",
       "      <td>0</td>\n",
       "    </tr>\n",
       "    <tr>\n",
       "      <th>4</th>\n",
       "      <td>MHSIF003</td>\n",
       "      <td>Mahasiswa IF 3</td>\n",
       "      <td>0</td>\n",
       "      <td>0</td>\n",
       "      <td>0</td>\n",
       "      <td>0</td>\n",
       "    </tr>\n",
       "  </tbody>\n",
       "</table>\n",
       "</div>"
      ],
      "text/plain": [
       "        NPM               NAMA  time_materials  time_tasks  time_forums  \\\n",
       "0    MHS001  Mahasiswa Pertama               0           0            0   \n",
       "1  21SA1090              Bobit               0           0            5   \n",
       "2  MHSIF001     Mahasiswa IF 1           19636        1009         2959   \n",
       "3  MHSIF002     Mahasiswa IF 2               0           0            0   \n",
       "4  MHSIF003     Mahasiswa IF 3               0           0            0   \n",
       "\n",
       "   time_quizzes  \n",
       "0             0  \n",
       "1             0  \n",
       "2             0  \n",
       "3             0  \n",
       "4             0  "
      ]
     },
     "execution_count": 13,
     "metadata": {},
     "output_type": "execute_result"
    }
   ],
   "source": [
    "data_path_vle = \"dataset/rekap-001.csv\"\n",
    "df_rekap = pd.read_csv(data_path_vle)\n",
    "df_rekap.head()"
   ]
  },
  {
   "cell_type": "code",
   "execution_count": 14,
   "metadata": {
    "colab": {
     "base_uri": "https://localhost:8080/",
     "height": 539
    },
    "id": "c-Tw_FeoTDWx",
    "outputId": "f058d45e-3fae-4a68-c229-e662da35fafa"
   },
   "outputs": [
    {
     "data": {
      "text/html": [
       "<div>\n",
       "<style scoped>\n",
       "    .dataframe tbody tr th:only-of-type {\n",
       "        vertical-align: middle;\n",
       "    }\n",
       "\n",
       "    .dataframe tbody tr th {\n",
       "        vertical-align: top;\n",
       "    }\n",
       "\n",
       "    .dataframe thead th {\n",
       "        text-align: right;\n",
       "    }\n",
       "</style>\n",
       "<table border=\"1\" class=\"dataframe\">\n",
       "  <thead>\n",
       "    <tr style=\"text-align: right;\">\n",
       "      <th></th>\n",
       "      <th>NPM</th>\n",
       "      <th>NAMA</th>\n",
       "      <th>time_materials</th>\n",
       "      <th>time_tasks</th>\n",
       "      <th>time_forums</th>\n",
       "      <th>time_quizzes</th>\n",
       "      <th>NIM</th>\n",
       "      <th>Pemrosesan</th>\n",
       "      <th>Persepsi</th>\n",
       "      <th>Input</th>\n",
       "      <th>Pemahaman</th>\n",
       "    </tr>\n",
       "  </thead>\n",
       "  <tbody>\n",
       "    <tr>\n",
       "      <th>0</th>\n",
       "      <td>MHS001</td>\n",
       "      <td>Mahasiswa Pertama</td>\n",
       "      <td>0</td>\n",
       "      <td>0</td>\n",
       "      <td>0</td>\n",
       "      <td>0</td>\n",
       "      <td>NaN</td>\n",
       "      <td>NaN</td>\n",
       "      <td>NaN</td>\n",
       "      <td>NaN</td>\n",
       "      <td>NaN</td>\n",
       "    </tr>\n",
       "    <tr>\n",
       "      <th>1</th>\n",
       "      <td>21SA1090</td>\n",
       "      <td>Bobit</td>\n",
       "      <td>0</td>\n",
       "      <td>0</td>\n",
       "      <td>5</td>\n",
       "      <td>0</td>\n",
       "      <td>NaN</td>\n",
       "      <td>NaN</td>\n",
       "      <td>NaN</td>\n",
       "      <td>NaN</td>\n",
       "      <td>NaN</td>\n",
       "    </tr>\n",
       "    <tr>\n",
       "      <th>2</th>\n",
       "      <td>MHSIF001</td>\n",
       "      <td>Mahasiswa IF 1</td>\n",
       "      <td>19636</td>\n",
       "      <td>1009</td>\n",
       "      <td>2959</td>\n",
       "      <td>0</td>\n",
       "      <td>NaN</td>\n",
       "      <td>NaN</td>\n",
       "      <td>NaN</td>\n",
       "      <td>NaN</td>\n",
       "      <td>NaN</td>\n",
       "    </tr>\n",
       "    <tr>\n",
       "      <th>3</th>\n",
       "      <td>MHSIF002</td>\n",
       "      <td>Mahasiswa IF 2</td>\n",
       "      <td>0</td>\n",
       "      <td>0</td>\n",
       "      <td>0</td>\n",
       "      <td>0</td>\n",
       "      <td>NaN</td>\n",
       "      <td>NaN</td>\n",
       "      <td>NaN</td>\n",
       "      <td>NaN</td>\n",
       "      <td>NaN</td>\n",
       "    </tr>\n",
       "    <tr>\n",
       "      <th>4</th>\n",
       "      <td>MHSIF003</td>\n",
       "      <td>Mahasiswa IF 3</td>\n",
       "      <td>0</td>\n",
       "      <td>0</td>\n",
       "      <td>0</td>\n",
       "      <td>0</td>\n",
       "      <td>NaN</td>\n",
       "      <td>NaN</td>\n",
       "      <td>NaN</td>\n",
       "      <td>NaN</td>\n",
       "      <td>NaN</td>\n",
       "    </tr>\n",
       "    <tr>\n",
       "      <th>5</th>\n",
       "      <td>MHSIF004</td>\n",
       "      <td>Mahasiswa IF 4</td>\n",
       "      <td>0</td>\n",
       "      <td>0</td>\n",
       "      <td>0</td>\n",
       "      <td>0</td>\n",
       "      <td>NaN</td>\n",
       "      <td>NaN</td>\n",
       "      <td>NaN</td>\n",
       "      <td>NaN</td>\n",
       "      <td>NaN</td>\n",
       "    </tr>\n",
       "    <tr>\n",
       "      <th>6</th>\n",
       "      <td>MHSIF005</td>\n",
       "      <td>Mahasiswa IF 5</td>\n",
       "      <td>0</td>\n",
       "      <td>0</td>\n",
       "      <td>0</td>\n",
       "      <td>0</td>\n",
       "      <td>NaN</td>\n",
       "      <td>NaN</td>\n",
       "      <td>NaN</td>\n",
       "      <td>NaN</td>\n",
       "      <td>NaN</td>\n",
       "    </tr>\n",
       "    <tr>\n",
       "      <th>7</th>\n",
       "      <td>MHSIF006</td>\n",
       "      <td>Mahasiswa IF 6</td>\n",
       "      <td>0</td>\n",
       "      <td>0</td>\n",
       "      <td>0</td>\n",
       "      <td>0</td>\n",
       "      <td>NaN</td>\n",
       "      <td>NaN</td>\n",
       "      <td>NaN</td>\n",
       "      <td>NaN</td>\n",
       "      <td>NaN</td>\n",
       "    </tr>\n",
       "    <tr>\n",
       "      <th>8</th>\n",
       "      <td>MHSIF007</td>\n",
       "      <td>Mahasiswa IF 7</td>\n",
       "      <td>0</td>\n",
       "      <td>10</td>\n",
       "      <td>0</td>\n",
       "      <td>0</td>\n",
       "      <td>NaN</td>\n",
       "      <td>NaN</td>\n",
       "      <td>NaN</td>\n",
       "      <td>NaN</td>\n",
       "      <td>NaN</td>\n",
       "    </tr>\n",
       "    <tr>\n",
       "      <th>9</th>\n",
       "      <td>MHSIF008</td>\n",
       "      <td>Mahasiswa IF 8</td>\n",
       "      <td>0</td>\n",
       "      <td>0</td>\n",
       "      <td>0</td>\n",
       "      <td>0</td>\n",
       "      <td>NaN</td>\n",
       "      <td>NaN</td>\n",
       "      <td>NaN</td>\n",
       "      <td>NaN</td>\n",
       "      <td>NaN</td>\n",
       "    </tr>\n",
       "  </tbody>\n",
       "</table>\n",
       "</div>"
      ],
      "text/plain": [
       "        NPM               NAMA  time_materials  time_tasks  time_forums  \\\n",
       "0    MHS001  Mahasiswa Pertama               0           0            0   \n",
       "1  21SA1090              Bobit               0           0            5   \n",
       "2  MHSIF001     Mahasiswa IF 1           19636        1009         2959   \n",
       "3  MHSIF002     Mahasiswa IF 2               0           0            0   \n",
       "4  MHSIF003     Mahasiswa IF 3               0           0            0   \n",
       "5  MHSIF004     Mahasiswa IF 4               0           0            0   \n",
       "6  MHSIF005     Mahasiswa IF 5               0           0            0   \n",
       "7  MHSIF006     Mahasiswa IF 6               0           0            0   \n",
       "8  MHSIF007     Mahasiswa IF 7               0          10            0   \n",
       "9  MHSIF008     Mahasiswa IF 8               0           0            0   \n",
       "\n",
       "   time_quizzes  NIM Pemrosesan Persepsi Input Pemahaman  \n",
       "0             0  NaN        NaN      NaN   NaN       NaN  \n",
       "1             0  NaN        NaN      NaN   NaN       NaN  \n",
       "2             0  NaN        NaN      NaN   NaN       NaN  \n",
       "3             0  NaN        NaN      NaN   NaN       NaN  \n",
       "4             0  NaN        NaN      NaN   NaN       NaN  \n",
       "5             0  NaN        NaN      NaN   NaN       NaN  \n",
       "6             0  NaN        NaN      NaN   NaN       NaN  \n",
       "7             0  NaN        NaN      NaN   NaN       NaN  \n",
       "8             0  NaN        NaN      NaN   NaN       NaN  \n",
       "9             0  NaN        NaN      NaN   NaN       NaN  "
      ]
     },
     "execution_count": 14,
     "metadata": {},
     "output_type": "execute_result"
    }
   ],
   "source": [
    "df_jadi_selected = df_jadi[[\"NIM\", \"Pemrosesan\", \"Persepsi\", \"Input\", \"Pemahaman\"]]\n",
    "\n",
    "df_merged = pd.merge(\n",
    "    df_rekap,\n",
    "    df_jadi_selected,\n",
    "    left_on=\"NPM\",\n",
    "    right_on=\"NIM\",\n",
    "    how=\"left\"   # atau \"inner\" tergantung kebutuhan\n",
    ")\n",
    "df_merged.head(10)"
   ]
  },
  {
   "cell_type": "code",
   "execution_count": 15,
   "metadata": {
    "id": "zBG2JqYqf7FY"
   },
   "outputs": [],
   "source": [
    "df_jadi.to_csv(\"output.csv\", index=False)"
   ]
  },
  {
   "cell_type": "code",
   "execution_count": 16,
   "metadata": {
    "colab": {
     "base_uri": "https://localhost:8080/",
     "height": 669
    },
    "id": "HEPu3mvvhCeh",
    "outputId": "1f89479f-ed05-46cb-c402-6a52ad72aa2d"
   },
   "outputs": [
    {
     "data": {
      "text/html": [
       "<div>\n",
       "<style scoped>\n",
       "    .dataframe tbody tr th:only-of-type {\n",
       "        vertical-align: middle;\n",
       "    }\n",
       "\n",
       "    .dataframe tbody tr th {\n",
       "        vertical-align: top;\n",
       "    }\n",
       "\n",
       "    .dataframe thead th {\n",
       "        text-align: right;\n",
       "    }\n",
       "</style>\n",
       "<table border=\"1\" class=\"dataframe\">\n",
       "  <thead>\n",
       "    <tr style=\"text-align: right;\">\n",
       "      <th></th>\n",
       "      <th>NIM</th>\n",
       "      <th>Nama</th>\n",
       "      <th>Jenis Kelamin</th>\n",
       "      <th>Prodi</th>\n",
       "      <th>Skor 1</th>\n",
       "      <th>Skor 2</th>\n",
       "      <th>Skor 3</th>\n",
       "      <th>Skor 4</th>\n",
       "      <th>Pemrosesan</th>\n",
       "      <th>Persepsi</th>\n",
       "      <th>Input</th>\n",
       "      <th>Pemahaman</th>\n",
       "    </tr>\n",
       "  </thead>\n",
       "  <tbody>\n",
       "    <tr>\n",
       "      <th>464</th>\n",
       "      <td>-</td>\n",
       "      <td>Malvino Abel Calvero</td>\n",
       "      <td>Laki-laki</td>\n",
       "      <td>Informatika</td>\n",
       "      <td>-1</td>\n",
       "      <td>-3</td>\n",
       "      <td>-5</td>\n",
       "      <td>-3</td>\n",
       "      <td>Reflektif Rendah</td>\n",
       "      <td>Intuitif Rendah</td>\n",
       "      <td>Verbal Sedang</td>\n",
       "      <td>Global Rendah</td>\n",
       "    </tr>\n",
       "    <tr>\n",
       "      <th>449</th>\n",
       "      <td>-</td>\n",
       "      <td>Azhar</td>\n",
       "      <td>Laki-laki</td>\n",
       "      <td>Ilmu Komunikasi</td>\n",
       "      <td>-3</td>\n",
       "      <td>5</td>\n",
       "      <td>-3</td>\n",
       "      <td>-1</td>\n",
       "      <td>Reflektif Rendah</td>\n",
       "      <td>Sensing Sedang</td>\n",
       "      <td>Verbal Rendah</td>\n",
       "      <td>Global Rendah</td>\n",
       "    </tr>\n",
       "    <tr>\n",
       "      <th>460</th>\n",
       "      <td>-</td>\n",
       "      <td>akbar dr</td>\n",
       "      <td>Laki-laki</td>\n",
       "      <td>Informatika</td>\n",
       "      <td>1</td>\n",
       "      <td>-3</td>\n",
       "      <td>-3</td>\n",
       "      <td>1</td>\n",
       "      <td>Aktif Rendah</td>\n",
       "      <td>Intuitif Rendah</td>\n",
       "      <td>Verbal Rendah</td>\n",
       "      <td>Sequential Rendah</td>\n",
       "    </tr>\n",
       "    <tr>\n",
       "      <th>459</th>\n",
       "      <td>-</td>\n",
       "      <td>Reghina salwa</td>\n",
       "      <td>Perempuan</td>\n",
       "      <td>Informatika</td>\n",
       "      <td>-5</td>\n",
       "      <td>-1</td>\n",
       "      <td>-5</td>\n",
       "      <td>-1</td>\n",
       "      <td>Reflektif Sedang</td>\n",
       "      <td>Intuitif Rendah</td>\n",
       "      <td>Verbal Sedang</td>\n",
       "      <td>Global Rendah</td>\n",
       "    </tr>\n",
       "    <tr>\n",
       "      <th>447</th>\n",
       "      <td>-</td>\n",
       "      <td>Tutur hidayah</td>\n",
       "      <td>Laki-laki</td>\n",
       "      <td>Informatika</td>\n",
       "      <td>-1</td>\n",
       "      <td>-1</td>\n",
       "      <td>3</td>\n",
       "      <td>-3</td>\n",
       "      <td>Reflektif Rendah</td>\n",
       "      <td>Intuitif Rendah</td>\n",
       "      <td>Visual Rendah</td>\n",
       "      <td>Global Rendah</td>\n",
       "    </tr>\n",
       "    <tr>\n",
       "      <th>...</th>\n",
       "      <td>...</td>\n",
       "      <td>...</td>\n",
       "      <td>...</td>\n",
       "      <td>...</td>\n",
       "      <td>...</td>\n",
       "      <td>...</td>\n",
       "      <td>...</td>\n",
       "      <td>...</td>\n",
       "      <td>...</td>\n",
       "      <td>...</td>\n",
       "      <td>...</td>\n",
       "      <td>...</td>\n",
       "    </tr>\n",
       "    <tr>\n",
       "      <th>455</th>\n",
       "      <td>_</td>\n",
       "      <td>panji suwarsono</td>\n",
       "      <td>Laki-laki</td>\n",
       "      <td>Informatika</td>\n",
       "      <td>-1</td>\n",
       "      <td>1</td>\n",
       "      <td>1</td>\n",
       "      <td>3</td>\n",
       "      <td>Reflektif Rendah</td>\n",
       "      <td>Sensing Rendah</td>\n",
       "      <td>Visual Rendah</td>\n",
       "      <td>Sequential Rendah</td>\n",
       "    </tr>\n",
       "    <tr>\n",
       "      <th>451</th>\n",
       "      <td>d</td>\n",
       "      <td>Dina reksa Saputri</td>\n",
       "      <td>Perempuan</td>\n",
       "      <td>Ilmu Komunikasi</td>\n",
       "      <td>-3</td>\n",
       "      <td>-5</td>\n",
       "      <td>-1</td>\n",
       "      <td>-1</td>\n",
       "      <td>Reflektif Rendah</td>\n",
       "      <td>Intuitif Sedang</td>\n",
       "      <td>Verbal Rendah</td>\n",
       "      <td>Global Rendah</td>\n",
       "    </tr>\n",
       "    <tr>\n",
       "      <th>130</th>\n",
       "      <td>tes</td>\n",
       "      <td>tes</td>\n",
       "      <td>Laki-laki</td>\n",
       "      <td>Informatika</td>\n",
       "      <td>-1</td>\n",
       "      <td>-3</td>\n",
       "      <td>-3</td>\n",
       "      <td>-1</td>\n",
       "      <td>Reflektif Rendah</td>\n",
       "      <td>Intuitif Rendah</td>\n",
       "      <td>Verbal Rendah</td>\n",
       "      <td>Global Rendah</td>\n",
       "    </tr>\n",
       "    <tr>\n",
       "      <th>437</th>\n",
       "      <td>y</td>\n",
       "      <td>Rizki nur rahman</td>\n",
       "      <td>Laki-laki</td>\n",
       "      <td>Ilmu Komunikasi</td>\n",
       "      <td>-1</td>\n",
       "      <td>3</td>\n",
       "      <td>-1</td>\n",
       "      <td>-1</td>\n",
       "      <td>Reflektif Rendah</td>\n",
       "      <td>Sensing Rendah</td>\n",
       "      <td>Verbal Rendah</td>\n",
       "      <td>Global Rendah</td>\n",
       "    </tr>\n",
       "    <tr>\n",
       "      <th>461</th>\n",
       "      <td>~</td>\n",
       "      <td>Herfian ades satria</td>\n",
       "      <td>Laki-laki</td>\n",
       "      <td>Teknologi Informasi</td>\n",
       "      <td>1</td>\n",
       "      <td>1</td>\n",
       "      <td>5</td>\n",
       "      <td>3</td>\n",
       "      <td>Aktif Rendah</td>\n",
       "      <td>Sensing Rendah</td>\n",
       "      <td>Visual Sedang</td>\n",
       "      <td>Sequential Rendah</td>\n",
       "    </tr>\n",
       "  </tbody>\n",
       "</table>\n",
       "<p>604 rows × 12 columns</p>\n",
       "</div>"
      ],
      "text/plain": [
       "     NIM                  Nama Jenis Kelamin                Prodi  Skor 1  \\\n",
       "464    -  Malvino Abel Calvero     Laki-laki          Informatika      -1   \n",
       "449    -                 Azhar     Laki-laki      Ilmu Komunikasi      -3   \n",
       "460    -              akbar dr     Laki-laki          Informatika       1   \n",
       "459    -         Reghina salwa     Perempuan          Informatika      -5   \n",
       "447    -         Tutur hidayah     Laki-laki          Informatika      -1   \n",
       "..   ...                   ...           ...                  ...     ...   \n",
       "455    _       panji suwarsono     Laki-laki          Informatika      -1   \n",
       "451    d    Dina reksa Saputri     Perempuan      Ilmu Komunikasi      -3   \n",
       "130  tes                   tes     Laki-laki          Informatika      -1   \n",
       "437    y      Rizki nur rahman     Laki-laki      Ilmu Komunikasi      -1   \n",
       "461    ~   Herfian ades satria     Laki-laki  Teknologi Informasi       1   \n",
       "\n",
       "     Skor 2  Skor 3  Skor 4        Pemrosesan         Persepsi          Input  \\\n",
       "464      -3      -5      -3  Reflektif Rendah  Intuitif Rendah  Verbal Sedang   \n",
       "449       5      -3      -1  Reflektif Rendah   Sensing Sedang  Verbal Rendah   \n",
       "460      -3      -3       1      Aktif Rendah  Intuitif Rendah  Verbal Rendah   \n",
       "459      -1      -5      -1  Reflektif Sedang  Intuitif Rendah  Verbal Sedang   \n",
       "447      -1       3      -3  Reflektif Rendah  Intuitif Rendah  Visual Rendah   \n",
       "..      ...     ...     ...               ...              ...            ...   \n",
       "455       1       1       3  Reflektif Rendah   Sensing Rendah  Visual Rendah   \n",
       "451      -5      -1      -1  Reflektif Rendah  Intuitif Sedang  Verbal Rendah   \n",
       "130      -3      -3      -1  Reflektif Rendah  Intuitif Rendah  Verbal Rendah   \n",
       "437       3      -1      -1  Reflektif Rendah   Sensing Rendah  Verbal Rendah   \n",
       "461       1       5       3      Aktif Rendah   Sensing Rendah  Visual Sedang   \n",
       "\n",
       "             Pemahaman  \n",
       "464      Global Rendah  \n",
       "449      Global Rendah  \n",
       "460  Sequential Rendah  \n",
       "459      Global Rendah  \n",
       "447      Global Rendah  \n",
       "..                 ...  \n",
       "455  Sequential Rendah  \n",
       "451      Global Rendah  \n",
       "130      Global Rendah  \n",
       "437      Global Rendah  \n",
       "461  Sequential Rendah  \n",
       "\n",
       "[604 rows x 12 columns]"
      ]
     },
     "execution_count": 16,
     "metadata": {},
     "output_type": "execute_result"
    }
   ],
   "source": [
    "df_jadi.sort_values('NIM')"
   ]
  },
  {
   "cell_type": "code",
   "execution_count": 17,
   "metadata": {
    "colab": {
     "base_uri": "https://localhost:8080/",
     "height": 272
    },
    "id": "SebycE9DiPd9",
    "outputId": "2f3d0475-06d7-4634-87a2-f4930d4915e4"
   },
   "outputs": [
    {
     "data": {
      "text/plain": [
       "NPM                     MHSBD007\n",
       "NAMA              Mahasiswa BD 7\n",
       "time_materials                 0\n",
       "time_tasks                     0\n",
       "time_forums                    0\n",
       "time_quizzes                   0\n",
       "Name: 98, dtype: object"
      ]
     },
     "execution_count": 17,
     "metadata": {},
     "output_type": "execute_result"
    }
   ],
   "source": [
    "df_rekap.loc[98]"
   ]
  },
  {
   "cell_type": "markdown",
   "metadata": {
    "id": "ap_2TuVZkmSL"
   },
   "source": [
    "# Explorasi dfjadi"
   ]
  },
  {
   "cell_type": "code",
   "execution_count": 18,
   "metadata": {
    "colab": {
     "base_uri": "https://localhost:8080/",
     "height": 469
    },
    "id": "ZNv-NZd9ktl4",
    "outputId": "a671086a-b40b-4eb8-ac3d-7d04e0a84eda"
   },
   "outputs": [
    {
     "data": {
      "text/html": [
       "<div>\n",
       "<style scoped>\n",
       "    .dataframe tbody tr th:only-of-type {\n",
       "        vertical-align: middle;\n",
       "    }\n",
       "\n",
       "    .dataframe tbody tr th {\n",
       "        vertical-align: top;\n",
       "    }\n",
       "\n",
       "    .dataframe thead th {\n",
       "        text-align: right;\n",
       "    }\n",
       "</style>\n",
       "<table border=\"1\" class=\"dataframe\">\n",
       "  <thead>\n",
       "    <tr style=\"text-align: right;\">\n",
       "      <th></th>\n",
       "      <th>NIM</th>\n",
       "      <th>Nama</th>\n",
       "      <th>Jenis Kelamin</th>\n",
       "      <th>Prodi</th>\n",
       "      <th>Skor 1</th>\n",
       "      <th>Skor 2</th>\n",
       "      <th>Skor 3</th>\n",
       "      <th>Skor 4</th>\n",
       "      <th>Pemrosesan</th>\n",
       "      <th>Persepsi</th>\n",
       "      <th>Input</th>\n",
       "      <th>Pemahaman</th>\n",
       "    </tr>\n",
       "  </thead>\n",
       "  <tbody>\n",
       "    <tr>\n",
       "      <th>0</th>\n",
       "      <td>22SA11A074</td>\n",
       "      <td>Mohamad Ridho Mubarok</td>\n",
       "      <td>Laki-laki</td>\n",
       "      <td>Informatika</td>\n",
       "      <td>-1</td>\n",
       "      <td>1</td>\n",
       "      <td>-3</td>\n",
       "      <td>-3</td>\n",
       "      <td>Reflektif Rendah</td>\n",
       "      <td>Sensing Rendah</td>\n",
       "      <td>Verbal Rendah</td>\n",
       "      <td>Global Rendah</td>\n",
       "    </tr>\n",
       "    <tr>\n",
       "      <th>1</th>\n",
       "      <td>22SA11A134</td>\n",
       "      <td>Maria Angelina Cahyani Candrakasih</td>\n",
       "      <td>Perempuan</td>\n",
       "      <td>Informatika</td>\n",
       "      <td>1</td>\n",
       "      <td>-3</td>\n",
       "      <td>-5</td>\n",
       "      <td>1</td>\n",
       "      <td>Aktif Rendah</td>\n",
       "      <td>Intuitif Rendah</td>\n",
       "      <td>Verbal Sedang</td>\n",
       "      <td>Sequential Rendah</td>\n",
       "    </tr>\n",
       "    <tr>\n",
       "      <th>2</th>\n",
       "      <td>22SA31A027</td>\n",
       "      <td>Tresnanda Agsifa Cakra Buana</td>\n",
       "      <td>Laki-laki</td>\n",
       "      <td>Teknologi Informasi</td>\n",
       "      <td>-5</td>\n",
       "      <td>5</td>\n",
       "      <td>1</td>\n",
       "      <td>1</td>\n",
       "      <td>Reflektif Sedang</td>\n",
       "      <td>Sensing Sedang</td>\n",
       "      <td>Visual Rendah</td>\n",
       "      <td>Sequential Rendah</td>\n",
       "    </tr>\n",
       "    <tr>\n",
       "      <th>3</th>\n",
       "      <td>22sa11a038</td>\n",
       "      <td>Ndaru Febrian Pujo Leksono</td>\n",
       "      <td>Laki-laki</td>\n",
       "      <td>Informatika</td>\n",
       "      <td>-1</td>\n",
       "      <td>1</td>\n",
       "      <td>-7</td>\n",
       "      <td>-3</td>\n",
       "      <td>Reflektif Rendah</td>\n",
       "      <td>Sensing Rendah</td>\n",
       "      <td>Verbal Sedang</td>\n",
       "      <td>Global Rendah</td>\n",
       "    </tr>\n",
       "    <tr>\n",
       "      <th>4</th>\n",
       "      <td>22SA11A035</td>\n",
       "      <td>Nurul Khotimah Ansyari</td>\n",
       "      <td>Perempuan</td>\n",
       "      <td>Informatika</td>\n",
       "      <td>-5</td>\n",
       "      <td>-1</td>\n",
       "      <td>-5</td>\n",
       "      <td>3</td>\n",
       "      <td>Reflektif Sedang</td>\n",
       "      <td>Intuitif Rendah</td>\n",
       "      <td>Verbal Sedang</td>\n",
       "      <td>Sequential Rendah</td>\n",
       "    </tr>\n",
       "  </tbody>\n",
       "</table>\n",
       "</div>"
      ],
      "text/plain": [
       "          NIM                                Nama Jenis Kelamin  \\\n",
       "0  22SA11A074               Mohamad Ridho Mubarok     Laki-laki   \n",
       "1  22SA11A134  Maria Angelina Cahyani Candrakasih     Perempuan   \n",
       "2  22SA31A027        Tresnanda Agsifa Cakra Buana     Laki-laki   \n",
       "3  22sa11a038          Ndaru Febrian Pujo Leksono     Laki-laki   \n",
       "4  22SA11A035              Nurul Khotimah Ansyari     Perempuan   \n",
       "\n",
       "                 Prodi  Skor 1  Skor 2  Skor 3  Skor 4        Pemrosesan  \\\n",
       "0          Informatika      -1       1      -3      -3  Reflektif Rendah   \n",
       "1          Informatika       1      -3      -5       1      Aktif Rendah   \n",
       "2  Teknologi Informasi      -5       5       1       1  Reflektif Sedang   \n",
       "3          Informatika      -1       1      -7      -3  Reflektif Rendah   \n",
       "4          Informatika      -5      -1      -5       3  Reflektif Sedang   \n",
       "\n",
       "          Persepsi          Input          Pemahaman  \n",
       "0   Sensing Rendah  Verbal Rendah      Global Rendah  \n",
       "1  Intuitif Rendah  Verbal Sedang  Sequential Rendah  \n",
       "2   Sensing Sedang  Visual Rendah  Sequential Rendah  \n",
       "3   Sensing Rendah  Verbal Sedang      Global Rendah  \n",
       "4  Intuitif Rendah  Verbal Sedang  Sequential Rendah  "
      ]
     },
     "execution_count": 18,
     "metadata": {},
     "output_type": "execute_result"
    }
   ],
   "source": [
    "data_path_vle = \"dataset/dfjadi-simplified - dfjadi-simplified.csv\"\n",
    "df_jadi = pd.read_csv(data_path_vle)\n",
    "df_jadi.head()"
   ]
  },
  {
   "cell_type": "code",
   "execution_count": 19,
   "metadata": {
    "colab": {
     "base_uri": "https://localhost:8080/"
    },
    "id": "7oAEqxrPojBz",
    "outputId": "4b7390e8-3a6d-442c-8b30-da7fe44781c7"
   },
   "outputs": [
    {
     "data": {
      "text/plain": [
       "np.int64(15)"
      ]
     },
     "execution_count": 19,
     "metadata": {},
     "output_type": "execute_result"
    }
   ],
   "source": [
    "df_start_with_21 = df_jadi[df_jadi['NIM'].astype(str).str.startswith('21')]\n",
    "# df_start_with_21.head()\n",
    "df_start_with_21.NIM.count()"
   ]
  },
  {
   "cell_type": "code",
   "execution_count": 20,
   "metadata": {
    "colab": {
     "base_uri": "https://localhost:8080/"
    },
    "id": "yWgFKmbCk5Yd",
    "outputId": "4dbca7ea-a9d9-40b0-9a1f-d919233bd19a"
   },
   "outputs": [
    {
     "data": {
      "text/plain": [
       "np.int64(150)"
      ]
     },
     "execution_count": 20,
     "metadata": {},
     "output_type": "execute_result"
    }
   ],
   "source": [
    "df_start_with_22 = df_jadi[df_jadi['NIM'].astype(str).str.startswith('22')]\n",
    "# df_start_with_22.head()\n",
    "df_start_with_22.NIM.count()"
   ]
  },
  {
   "cell_type": "code",
   "execution_count": 21,
   "metadata": {
    "colab": {
     "base_uri": "https://localhost:8080/"
    },
    "id": "Ci4ttDtyncM_",
    "outputId": "b0bc6e0a-9ae1-499b-802f-d52fccb75b59"
   },
   "outputs": [
    {
     "data": {
      "text/plain": [
       "np.int64(252)"
      ]
     },
     "execution_count": 21,
     "metadata": {},
     "output_type": "execute_result"
    }
   ],
   "source": [
    "df_start_with_23 = df_jadi[df_jadi['NIM'].astype(str).str.startswith('23')]\n",
    "# df_start_with_23.head()\n",
    "df_start_with_23.NIM.count()"
   ]
  },
  {
   "cell_type": "code",
   "execution_count": 22,
   "metadata": {
    "colab": {
     "base_uri": "https://localhost:8080/"
    },
    "id": "-sR79vs8oN7M",
    "outputId": "da96082d-15da-4e96-8ddd-218af66a5e5b"
   },
   "outputs": [
    {
     "data": {
      "text/plain": [
       "np.int64(146)"
      ]
     },
     "execution_count": 22,
     "metadata": {},
     "output_type": "execute_result"
    }
   ],
   "source": [
    "df_start_with_24 = df_jadi[df_jadi['NIM'].astype(str).str.startswith('24')]\n",
    "# df_start_with_24.head()\n",
    "df_start_with_24.NIM.count()"
   ]
  },
  {
   "cell_type": "code",
   "execution_count": 23,
   "metadata": {
    "colab": {
     "base_uri": "https://localhost:8080/"
    },
    "id": "Q_EZJEbsnzM9",
    "outputId": "c78988ef-8e42-43e4-db63-33c7bd2f89c8"
   },
   "outputs": [
    {
     "data": {
      "text/plain": [
       "np.int64(604)"
      ]
     },
     "execution_count": 23,
     "metadata": {},
     "output_type": "execute_result"
    }
   ],
   "source": [
    "df_jadi.NIM.count()"
   ]
  },
  {
   "cell_type": "code",
   "execution_count": 24,
   "metadata": {
    "colab": {
     "base_uri": "https://localhost:8080/"
    },
    "id": "9C_2QRyUoSpD",
    "outputId": "26350ff1-c452-4684-9734-4f21aa769779"
   },
   "outputs": [
    {
     "data": {
      "text/plain": [
       "np.int64(41)"
      ]
     },
     "execution_count": 24,
     "metadata": {},
     "output_type": "execute_result"
    }
   ],
   "source": [
    "df_jadi.NIM.count() - (df_start_with_21.NIM.count() + df_start_with_22.NIM.count() + df_start_with_23.NIM.count() + df_start_with_24.NIM.count())"
   ]
  },
  {
   "cell_type": "code",
   "execution_count": 25,
   "metadata": {
    "colab": {
     "base_uri": "https://localhost:8080/"
    },
    "id": "yPbDBmZKo5rJ",
    "outputId": "29878ad7-9691-44aa-f00a-583d870f15f5"
   },
   "outputs": [
    {
     "data": {
      "text/plain": [
       "np.int64(563)"
      ]
     },
     "execution_count": 25,
     "metadata": {},
     "output_type": "execute_result"
    }
   ],
   "source": [
    "df_merged_years = pd.concat([df_start_with_21, df_start_with_22, df_start_with_23, df_start_with_24])\n",
    "# display(df_merged_years.head())\n",
    "df_merged_years.NIM.count()"
   ]
  },
  {
   "cell_type": "code",
   "execution_count": 26,
   "metadata": {
    "colab": {
     "base_uri": "https://localhost:8080/",
     "height": 365
    },
    "id": "0MwEvtNcJQSz",
    "outputId": "4447f56b-62c1-4843-9cbe-77c417b3a6a0"
   },
   "outputs": [
    {
     "data": {
      "text/html": [
       "<div>\n",
       "<style scoped>\n",
       "    .dataframe tbody tr th:only-of-type {\n",
       "        vertical-align: middle;\n",
       "    }\n",
       "\n",
       "    .dataframe tbody tr th {\n",
       "        vertical-align: top;\n",
       "    }\n",
       "\n",
       "    .dataframe thead th {\n",
       "        text-align: right;\n",
       "    }\n",
       "</style>\n",
       "<table border=\"1\" class=\"dataframe\">\n",
       "  <thead>\n",
       "    <tr style=\"text-align: right;\">\n",
       "      <th></th>\n",
       "      <th>NIM</th>\n",
       "      <th>Nama</th>\n",
       "      <th>Jenis Kelamin</th>\n",
       "      <th>Prodi</th>\n",
       "      <th>Skor 1</th>\n",
       "      <th>Skor 2</th>\n",
       "      <th>Skor 3</th>\n",
       "      <th>Skor 4</th>\n",
       "      <th>Pemrosesan</th>\n",
       "      <th>Persepsi</th>\n",
       "      <th>Input</th>\n",
       "      <th>Pemahaman</th>\n",
       "    </tr>\n",
       "  </thead>\n",
       "  <tbody>\n",
       "    <tr>\n",
       "      <th>136</th>\n",
       "      <td>21SA1194</td>\n",
       "      <td>Rizky Aulia Rahman</td>\n",
       "      <td>Laki-laki</td>\n",
       "      <td>Informatika</td>\n",
       "      <td>-1</td>\n",
       "      <td>5</td>\n",
       "      <td>-5</td>\n",
       "      <td>-7</td>\n",
       "      <td>Reflektif Rendah</td>\n",
       "      <td>Sensing Sedang</td>\n",
       "      <td>Verbal Sedang</td>\n",
       "      <td>Global Sedang</td>\n",
       "    </tr>\n",
       "    <tr>\n",
       "      <th>168</th>\n",
       "      <td>21SA1086</td>\n",
       "      <td>Muhammad Thoriq Jamil</td>\n",
       "      <td>Laki-laki</td>\n",
       "      <td>Informatika</td>\n",
       "      <td>-3</td>\n",
       "      <td>7</td>\n",
       "      <td>-3</td>\n",
       "      <td>1</td>\n",
       "      <td>Reflektif Rendah</td>\n",
       "      <td>Sensing Sedang</td>\n",
       "      <td>Verbal Rendah</td>\n",
       "      <td>Sequential Rendah</td>\n",
       "    </tr>\n",
       "    <tr>\n",
       "      <th>171</th>\n",
       "      <td>21SA1158</td>\n",
       "      <td>Velizha Sandy Kusuma</td>\n",
       "      <td>Perempuan</td>\n",
       "      <td>Informatika</td>\n",
       "      <td>-3</td>\n",
       "      <td>-5</td>\n",
       "      <td>1</td>\n",
       "      <td>-3</td>\n",
       "      <td>Reflektif Rendah</td>\n",
       "      <td>Intuitif Sedang</td>\n",
       "      <td>Visual Rendah</td>\n",
       "      <td>Global Rendah</td>\n",
       "    </tr>\n",
       "    <tr>\n",
       "      <th>173</th>\n",
       "      <td>21SA1220</td>\n",
       "      <td>Aldona Septiana</td>\n",
       "      <td>Perempuan</td>\n",
       "      <td>Informatika</td>\n",
       "      <td>-5</td>\n",
       "      <td>-1</td>\n",
       "      <td>-1</td>\n",
       "      <td>-3</td>\n",
       "      <td>Reflektif Sedang</td>\n",
       "      <td>Intuitif Rendah</td>\n",
       "      <td>Verbal Rendah</td>\n",
       "      <td>Global Rendah</td>\n",
       "    </tr>\n",
       "    <tr>\n",
       "      <th>217</th>\n",
       "      <td>21SB1022</td>\n",
       "      <td>Refita Dwi Nurjanah</td>\n",
       "      <td>Perempuan</td>\n",
       "      <td>Bisnis Digital</td>\n",
       "      <td>1</td>\n",
       "      <td>-1</td>\n",
       "      <td>-5</td>\n",
       "      <td>-1</td>\n",
       "      <td>Aktif Rendah</td>\n",
       "      <td>Intuitif Rendah</td>\n",
       "      <td>Verbal Sedang</td>\n",
       "      <td>Global Rendah</td>\n",
       "    </tr>\n",
       "  </tbody>\n",
       "</table>\n",
       "</div>"
      ],
      "text/plain": [
       "          NIM                   Nama Jenis Kelamin           Prodi  Skor 1  \\\n",
       "136  21SA1194     Rizky Aulia Rahman     Laki-laki     Informatika      -1   \n",
       "168  21SA1086  Muhammad Thoriq Jamil     Laki-laki     Informatika      -3   \n",
       "171  21SA1158   Velizha Sandy Kusuma     Perempuan     Informatika      -3   \n",
       "173  21SA1220        Aldona Septiana     Perempuan     Informatika      -5   \n",
       "217  21SB1022    Refita Dwi Nurjanah     Perempuan  Bisnis Digital       1   \n",
       "\n",
       "     Skor 2  Skor 3  Skor 4        Pemrosesan         Persepsi          Input  \\\n",
       "136       5      -5      -7  Reflektif Rendah   Sensing Sedang  Verbal Sedang   \n",
       "168       7      -3       1  Reflektif Rendah   Sensing Sedang  Verbal Rendah   \n",
       "171      -5       1      -3  Reflektif Rendah  Intuitif Sedang  Visual Rendah   \n",
       "173      -1      -1      -3  Reflektif Sedang  Intuitif Rendah  Verbal Rendah   \n",
       "217      -1      -5      -1      Aktif Rendah  Intuitif Rendah  Verbal Sedang   \n",
       "\n",
       "             Pemahaman  \n",
       "136      Global Sedang  \n",
       "168  Sequential Rendah  \n",
       "171      Global Rendah  \n",
       "173      Global Rendah  \n",
       "217      Global Rendah  "
      ]
     },
     "execution_count": 26,
     "metadata": {},
     "output_type": "execute_result"
    }
   ],
   "source": [
    "df_merged_years.head()"
   ]
  },
  {
   "cell_type": "code",
   "execution_count": 27,
   "metadata": {
    "colab": {
     "base_uri": "https://localhost:8080/"
    },
    "id": "uGfMTG7MIv6c",
    "outputId": "6e9dc802-048e-4009-b102-3242c1aa7caf"
   },
   "outputs": [
    {
     "data": {
      "text/plain": [
       "np.int64(0)"
      ]
     },
     "execution_count": 27,
     "metadata": {},
     "output_type": "execute_result"
    }
   ],
   "source": [
    "df_merged_years['Pemrosesan'].isna().sum()"
   ]
  },
  {
   "cell_type": "code",
   "execution_count": 28,
   "metadata": {
    "id": "vGAXlxjyL8Fl"
   },
   "outputs": [],
   "source": [
    "df_merged_years.to_csv(\"df_merged_years_output.csv\", index=False)"
   ]
  },
  {
   "cell_type": "markdown",
   "metadata": {
    "id": "ObkEIIjlOn9I"
   },
   "source": [
    "# Explorasi Mahasiswa Spend Time"
   ]
  },
  {
   "cell_type": "code",
   "execution_count": 29,
   "metadata": {
    "colab": {
     "base_uri": "https://localhost:8080/",
     "height": 206
    },
    "id": "uPEGjC-oOdZI",
    "outputId": "f4507ad5-c08b-4a78-b1aa-632f4bbfecd7"
   },
   "outputs": [
    {
     "data": {
      "text/html": [
       "<div>\n",
       "<style scoped>\n",
       "    .dataframe tbody tr th:only-of-type {\n",
       "        vertical-align: middle;\n",
       "    }\n",
       "\n",
       "    .dataframe tbody tr th {\n",
       "        vertical-align: top;\n",
       "    }\n",
       "\n",
       "    .dataframe thead th {\n",
       "        text-align: right;\n",
       "    }\n",
       "</style>\n",
       "<table border=\"1\" class=\"dataframe\">\n",
       "  <thead>\n",
       "    <tr style=\"text-align: right;\">\n",
       "      <th></th>\n",
       "      <th>NPM</th>\n",
       "      <th>NAMA</th>\n",
       "      <th>time_materials</th>\n",
       "      <th>time_tasks</th>\n",
       "      <th>time_forums</th>\n",
       "      <th>time_quizzes</th>\n",
       "    </tr>\n",
       "  </thead>\n",
       "  <tbody>\n",
       "    <tr>\n",
       "      <th>0</th>\n",
       "      <td>MHS001</td>\n",
       "      <td>Mahasiswa Pertama</td>\n",
       "      <td>0</td>\n",
       "      <td>0</td>\n",
       "      <td>0</td>\n",
       "      <td>0</td>\n",
       "    </tr>\n",
       "    <tr>\n",
       "      <th>1</th>\n",
       "      <td>21SA1090</td>\n",
       "      <td>Bobit</td>\n",
       "      <td>0</td>\n",
       "      <td>0</td>\n",
       "      <td>5</td>\n",
       "      <td>0</td>\n",
       "    </tr>\n",
       "    <tr>\n",
       "      <th>2</th>\n",
       "      <td>MHSIF001</td>\n",
       "      <td>Mahasiswa IF 1</td>\n",
       "      <td>19636</td>\n",
       "      <td>1009</td>\n",
       "      <td>2959</td>\n",
       "      <td>0</td>\n",
       "    </tr>\n",
       "    <tr>\n",
       "      <th>3</th>\n",
       "      <td>MHSIF002</td>\n",
       "      <td>Mahasiswa IF 2</td>\n",
       "      <td>0</td>\n",
       "      <td>0</td>\n",
       "      <td>0</td>\n",
       "      <td>0</td>\n",
       "    </tr>\n",
       "    <tr>\n",
       "      <th>4</th>\n",
       "      <td>MHSIF003</td>\n",
       "      <td>Mahasiswa IF 3</td>\n",
       "      <td>0</td>\n",
       "      <td>0</td>\n",
       "      <td>0</td>\n",
       "      <td>0</td>\n",
       "    </tr>\n",
       "  </tbody>\n",
       "</table>\n",
       "</div>"
      ],
      "text/plain": [
       "        NPM               NAMA  time_materials  time_tasks  time_forums  \\\n",
       "0    MHS001  Mahasiswa Pertama               0           0            0   \n",
       "1  21SA1090              Bobit               0           0            5   \n",
       "2  MHSIF001     Mahasiswa IF 1           19636        1009         2959   \n",
       "3  MHSIF002     Mahasiswa IF 2               0           0            0   \n",
       "4  MHSIF003     Mahasiswa IF 3               0           0            0   \n",
       "\n",
       "   time_quizzes  \n",
       "0             0  \n",
       "1             0  \n",
       "2             0  \n",
       "3             0  \n",
       "4             0  "
      ]
     },
     "execution_count": 29,
     "metadata": {},
     "output_type": "execute_result"
    }
   ],
   "source": [
    "data_path_vle = \"dataset/rekap-001.csv\"\n",
    "df_rekap = pd.read_csv(data_path_vle)\n",
    "df_rekap.head()"
   ]
  },
  {
   "cell_type": "code",
   "execution_count": 30,
   "metadata": {
    "colab": {
     "base_uri": "https://localhost:8080/"
    },
    "id": "QfGLWMxuJWn9",
    "outputId": "638ca979-5fd1-4e1b-80d3-7099127bf092"
   },
   "outputs": [
    {
     "data": {
      "text/plain": [
       "np.int64(456)"
      ]
     },
     "execution_count": 30,
     "metadata": {},
     "output_type": "execute_result"
    }
   ],
   "source": [
    "df_rekap.NPM.count()"
   ]
  },
  {
   "cell_type": "markdown",
   "metadata": {
    "id": "PdqnXf8DPKq-"
   },
   "source": [
    "# Dataset"
   ]
  },
  {
   "cell_type": "code",
   "execution_count": 31,
   "metadata": {
    "colab": {
     "base_uri": "https://localhost:8080/",
     "height": 452
    },
    "id": "IJSvifJVPduF",
    "outputId": "b463e42f-c719-4101-efa0-94b4a6581c6b"
   },
   "outputs": [
    {
     "data": {
      "text/html": [
       "<div>\n",
       "<style scoped>\n",
       "    .dataframe tbody tr th:only-of-type {\n",
       "        vertical-align: middle;\n",
       "    }\n",
       "\n",
       "    .dataframe tbody tr th {\n",
       "        vertical-align: top;\n",
       "    }\n",
       "\n",
       "    .dataframe thead th {\n",
       "        text-align: right;\n",
       "    }\n",
       "</style>\n",
       "<table border=\"1\" class=\"dataframe\">\n",
       "  <thead>\n",
       "    <tr style=\"text-align: right;\">\n",
       "      <th></th>\n",
       "      <th>NIM</th>\n",
       "      <th>Nama</th>\n",
       "      <th>Pemrosesan</th>\n",
       "      <th>Persepsi</th>\n",
       "      <th>Input</th>\n",
       "      <th>Pemahaman</th>\n",
       "      <th>NPM</th>\n",
       "      <th>NAMA</th>\n",
       "      <th>time_materials</th>\n",
       "      <th>time_tasks</th>\n",
       "      <th>time_forums</th>\n",
       "      <th>time_quizzes</th>\n",
       "    </tr>\n",
       "  </thead>\n",
       "  <tbody>\n",
       "    <tr>\n",
       "      <th>0</th>\n",
       "      <td>22SA11A074</td>\n",
       "      <td>Mohamad Ridho Mubarok</td>\n",
       "      <td>Reflektif Rendah</td>\n",
       "      <td>Sensing Rendah</td>\n",
       "      <td>Verbal Rendah</td>\n",
       "      <td>Global Rendah</td>\n",
       "      <td>NaN</td>\n",
       "      <td>NaN</td>\n",
       "      <td>NaN</td>\n",
       "      <td>NaN</td>\n",
       "      <td>NaN</td>\n",
       "      <td>NaN</td>\n",
       "    </tr>\n",
       "    <tr>\n",
       "      <th>1</th>\n",
       "      <td>22SA11A134</td>\n",
       "      <td>Maria Angelina Cahyani Candrakasih</td>\n",
       "      <td>Aktif Rendah</td>\n",
       "      <td>Intuitif Rendah</td>\n",
       "      <td>Verbal Sedang</td>\n",
       "      <td>Sequential Rendah</td>\n",
       "      <td>NaN</td>\n",
       "      <td>NaN</td>\n",
       "      <td>NaN</td>\n",
       "      <td>NaN</td>\n",
       "      <td>NaN</td>\n",
       "      <td>NaN</td>\n",
       "    </tr>\n",
       "    <tr>\n",
       "      <th>2</th>\n",
       "      <td>22SA31A027</td>\n",
       "      <td>Tresnanda Agsifa Cakra Buana</td>\n",
       "      <td>Reflektif Sedang</td>\n",
       "      <td>Sensing Sedang</td>\n",
       "      <td>Visual Rendah</td>\n",
       "      <td>Sequential Rendah</td>\n",
       "      <td>NaN</td>\n",
       "      <td>NaN</td>\n",
       "      <td>NaN</td>\n",
       "      <td>NaN</td>\n",
       "      <td>NaN</td>\n",
       "      <td>NaN</td>\n",
       "    </tr>\n",
       "    <tr>\n",
       "      <th>3</th>\n",
       "      <td>22sa11a038</td>\n",
       "      <td>Ndaru Febrian Pujo Leksono</td>\n",
       "      <td>Reflektif Rendah</td>\n",
       "      <td>Sensing Rendah</td>\n",
       "      <td>Verbal Sedang</td>\n",
       "      <td>Global Rendah</td>\n",
       "      <td>NaN</td>\n",
       "      <td>NaN</td>\n",
       "      <td>NaN</td>\n",
       "      <td>NaN</td>\n",
       "      <td>NaN</td>\n",
       "      <td>NaN</td>\n",
       "    </tr>\n",
       "    <tr>\n",
       "      <th>4</th>\n",
       "      <td>22SA11A035</td>\n",
       "      <td>Nurul Khotimah Ansyari</td>\n",
       "      <td>Reflektif Sedang</td>\n",
       "      <td>Intuitif Rendah</td>\n",
       "      <td>Verbal Sedang</td>\n",
       "      <td>Sequential Rendah</td>\n",
       "      <td>NaN</td>\n",
       "      <td>NaN</td>\n",
       "      <td>NaN</td>\n",
       "      <td>NaN</td>\n",
       "      <td>NaN</td>\n",
       "      <td>NaN</td>\n",
       "    </tr>\n",
       "  </tbody>\n",
       "</table>\n",
       "</div>"
      ],
      "text/plain": [
       "          NIM                                Nama        Pemrosesan  \\\n",
       "0  22SA11A074               Mohamad Ridho Mubarok  Reflektif Rendah   \n",
       "1  22SA11A134  Maria Angelina Cahyani Candrakasih      Aktif Rendah   \n",
       "2  22SA31A027        Tresnanda Agsifa Cakra Buana  Reflektif Sedang   \n",
       "3  22sa11a038          Ndaru Febrian Pujo Leksono  Reflektif Rendah   \n",
       "4  22SA11A035              Nurul Khotimah Ansyari  Reflektif Sedang   \n",
       "\n",
       "          Persepsi          Input          Pemahaman  NPM NAMA  \\\n",
       "0   Sensing Rendah  Verbal Rendah      Global Rendah  NaN  NaN   \n",
       "1  Intuitif Rendah  Verbal Sedang  Sequential Rendah  NaN  NaN   \n",
       "2   Sensing Sedang  Visual Rendah  Sequential Rendah  NaN  NaN   \n",
       "3   Sensing Rendah  Verbal Sedang      Global Rendah  NaN  NaN   \n",
       "4  Intuitif Rendah  Verbal Sedang  Sequential Rendah  NaN  NaN   \n",
       "\n",
       "   time_materials  time_tasks  time_forums  time_quizzes  \n",
       "0             NaN         NaN          NaN           NaN  \n",
       "1             NaN         NaN          NaN           NaN  \n",
       "2             NaN         NaN          NaN           NaN  \n",
       "3             NaN         NaN          NaN           NaN  \n",
       "4             NaN         NaN          NaN           NaN  "
      ]
     },
     "execution_count": 31,
     "metadata": {},
     "output_type": "execute_result"
    }
   ],
   "source": [
    "df_merged_years = df_jadi[[\"NIM\", \"Nama\", \"Pemrosesan\", \"Persepsi\", \"Input\", \"Pemahaman\"]]\n",
    "\n",
    "df_merged = pd.merge(\n",
    "    df_merged_years,\n",
    "    df_rekap,\n",
    "    left_on=\"NIM\",\n",
    "    right_on=\"NPM\",\n",
    "    how=\"left\"   # atau \"inner\" tergantung kebutuhan\n",
    ")\n",
    "df_merged.head()"
   ]
  },
  {
   "cell_type": "code",
   "execution_count": 32,
   "metadata": {
    "colab": {
     "base_uri": "https://localhost:8080/"
    },
    "id": "s-lrbGVfQNVl",
    "outputId": "d0f04e00-0033-4885-87a7-8a1812b508cd"
   },
   "outputs": [
    {
     "data": {
      "text/plain": [
       "np.int64(123)"
      ]
     },
     "execution_count": 32,
     "metadata": {},
     "output_type": "execute_result"
    }
   ],
   "source": [
    "df_merged.NPM.count()"
   ]
  },
  {
   "cell_type": "code",
   "execution_count": 33,
   "metadata": {
    "colab": {
     "base_uri": "https://localhost:8080/"
    },
    "id": "Cl5TYPPnIC3j",
    "outputId": "d503a21b-d924-4e9b-e8fe-1022114694c9"
   },
   "outputs": [
    {
     "data": {
      "text/plain": [
       "np.int64(0)"
      ]
     },
     "execution_count": 33,
     "metadata": {},
     "output_type": "execute_result"
    }
   ],
   "source": [
    "df_merged['Pemrosesan'].isna().sum()"
   ]
  },
  {
   "cell_type": "code",
   "execution_count": 34,
   "metadata": {
    "colab": {
     "base_uri": "https://localhost:8080/"
    },
    "id": "__avozstJ3Vu",
    "outputId": "b7e343fc-d679-44dd-80a0-e0ef66cfb6e5"
   },
   "outputs": [
    {
     "data": {
      "text/plain": [
       "np.int64(604)"
      ]
     },
     "execution_count": 34,
     "metadata": {},
     "output_type": "execute_result"
    }
   ],
   "source": [
    "df_merged['Pemrosesan'].notna().sum()"
   ]
  },
  {
   "cell_type": "code",
   "execution_count": 35,
   "metadata": {
    "colab": {
     "base_uri": "https://localhost:8080/"
    },
    "id": "0KIqE7QMFaSz",
    "outputId": "6f79c72e-6b3c-46e7-d6e0-d6349c809fe0"
   },
   "outputs": [
    {
     "data": {
      "text/plain": [
       "5"
      ]
     },
     "execution_count": 35,
     "metadata": {},
     "output_type": "execute_result"
    }
   ],
   "source": [
    "df_merged.Pemrosesan.nunique()"
   ]
  },
  {
   "cell_type": "code",
   "execution_count": 36,
   "metadata": {
    "colab": {
     "base_uri": "https://localhost:8080/"
    },
    "id": "L0tQNdaQDP5m",
    "outputId": "01cfa9b8-baa3-484b-8706-d12393799ccb"
   },
   "outputs": [
    {
     "data": {
      "text/plain": [
       "array(['Reflektif Rendah', 'Aktif Rendah', 'Reflektif Sedang',\n",
       "       'Reflektif Kuat', 'Aktif Sedang'], dtype=object)"
      ]
     },
     "execution_count": 36,
     "metadata": {},
     "output_type": "execute_result"
    }
   ],
   "source": [
    "df_merged.Pemrosesan.unique()"
   ]
  },
  {
   "cell_type": "code",
   "execution_count": 37,
   "metadata": {
    "colab": {
     "base_uri": "https://localhost:8080/"
    },
    "id": "5X4wz1c2Dxbb",
    "outputId": "2448f26c-bde3-4da9-dcd9-feb40e23211e"
   },
   "outputs": [
    {
     "data": {
      "text/plain": [
       "array(['Verbal Rendah', 'Verbal Sedang', 'Visual Rendah', 'Visual Sedang',\n",
       "       'Verbal Kuat'], dtype=object)"
      ]
     },
     "execution_count": 37,
     "metadata": {},
     "output_type": "execute_result"
    }
   ],
   "source": [
    "df_merged.Input.unique()"
   ]
  },
  {
   "cell_type": "code",
   "execution_count": 38,
   "metadata": {
    "colab": {
     "base_uri": "https://localhost:8080/"
    },
    "id": "o5Fz_lSDFmah",
    "outputId": "0aefef25-2cf2-4b6d-83df-ae45f7ed62ed"
   },
   "outputs": [
    {
     "data": {
      "text/plain": [
       "5"
      ]
     },
     "execution_count": 38,
     "metadata": {},
     "output_type": "execute_result"
    }
   ],
   "source": [
    "df_merged.Input.nunique()"
   ]
  },
  {
   "cell_type": "code",
   "execution_count": 39,
   "metadata": {
    "id": "xflxyTHwQyHX"
   },
   "outputs": [],
   "source": [
    "# Pemrosesan: Refrektif, Aktif\n",
    "# Persepsi: Visual, Verbal"
   ]
  },
  {
   "cell_type": "code",
   "execution_count": 40,
   "metadata": {
    "id": "AqaP4YlGRYiV"
   },
   "outputs": [],
   "source": [
    "def map_pemrosesan(row):\n",
    "    if (row['Pemrosesan'] == 'Reflektif Kuat') or (row['Pemrosesan'] == 'Reflektif Sedang') or (row['Pemrosesan'] == 'Reflektif Rendah'):\n",
    "        return 'Reflektif'\n",
    "    elif (row['Pemrosesan'] == 'Aktif Kuat') or (row['Pemrosesan'] == 'Aktif Sedang') or (row['Pemrosesan'] == 'Aktif Rendah'):\n",
    "        return 'Aktif'\n",
    "    else:\n",
    "        return None\n",
    "\n",
    "def map_input(row):\n",
    "    if (row['Input'] == 'Visual Kuat') or (row['Input'] == 'Visual Sedang') or (row['Input'] == 'Visual Rendah'):\n",
    "        return 'Visual'\n",
    "    elif (row['Input'] == 'Verbal Kuat') or (row['Input'] == 'Verbal Sedang') or (row['Input'] == 'Verbal Rendah'):\n",
    "        return 'Verbal'\n",
    "    else:\n",
    "        return None\n",
    "\n",
    "# Tambahkan kolom baru\n",
    "df_merged['Pemrosesan'] = df_merged.apply(map_pemrosesan, axis=1)\n",
    "df_merged['Input'] = df_merged.apply(map_input, axis=1)\n"
   ]
  },
  {
   "cell_type": "code",
   "execution_count": 41,
   "metadata": {
    "colab": {
     "base_uri": "https://localhost:8080/",
     "height": 452
    },
    "id": "5ilpiHkzHrlq",
    "outputId": "ccd6a8a2-c3b0-4c4d-9fa4-3315a570e7b0"
   },
   "outputs": [
    {
     "data": {
      "text/html": [
       "<div>\n",
       "<style scoped>\n",
       "    .dataframe tbody tr th:only-of-type {\n",
       "        vertical-align: middle;\n",
       "    }\n",
       "\n",
       "    .dataframe tbody tr th {\n",
       "        vertical-align: top;\n",
       "    }\n",
       "\n",
       "    .dataframe thead th {\n",
       "        text-align: right;\n",
       "    }\n",
       "</style>\n",
       "<table border=\"1\" class=\"dataframe\">\n",
       "  <thead>\n",
       "    <tr style=\"text-align: right;\">\n",
       "      <th></th>\n",
       "      <th>NIM</th>\n",
       "      <th>Nama</th>\n",
       "      <th>Pemrosesan</th>\n",
       "      <th>Persepsi</th>\n",
       "      <th>Input</th>\n",
       "      <th>Pemahaman</th>\n",
       "      <th>NPM</th>\n",
       "      <th>NAMA</th>\n",
       "      <th>time_materials</th>\n",
       "      <th>time_tasks</th>\n",
       "      <th>time_forums</th>\n",
       "      <th>time_quizzes</th>\n",
       "    </tr>\n",
       "  </thead>\n",
       "  <tbody>\n",
       "    <tr>\n",
       "      <th>0</th>\n",
       "      <td>22SA11A074</td>\n",
       "      <td>Mohamad Ridho Mubarok</td>\n",
       "      <td>Reflektif</td>\n",
       "      <td>Sensing Rendah</td>\n",
       "      <td>Verbal</td>\n",
       "      <td>Global Rendah</td>\n",
       "      <td>NaN</td>\n",
       "      <td>NaN</td>\n",
       "      <td>NaN</td>\n",
       "      <td>NaN</td>\n",
       "      <td>NaN</td>\n",
       "      <td>NaN</td>\n",
       "    </tr>\n",
       "    <tr>\n",
       "      <th>1</th>\n",
       "      <td>22SA11A134</td>\n",
       "      <td>Maria Angelina Cahyani Candrakasih</td>\n",
       "      <td>Aktif</td>\n",
       "      <td>Intuitif Rendah</td>\n",
       "      <td>Verbal</td>\n",
       "      <td>Sequential Rendah</td>\n",
       "      <td>NaN</td>\n",
       "      <td>NaN</td>\n",
       "      <td>NaN</td>\n",
       "      <td>NaN</td>\n",
       "      <td>NaN</td>\n",
       "      <td>NaN</td>\n",
       "    </tr>\n",
       "    <tr>\n",
       "      <th>2</th>\n",
       "      <td>22SA31A027</td>\n",
       "      <td>Tresnanda Agsifa Cakra Buana</td>\n",
       "      <td>Reflektif</td>\n",
       "      <td>Sensing Sedang</td>\n",
       "      <td>Visual</td>\n",
       "      <td>Sequential Rendah</td>\n",
       "      <td>NaN</td>\n",
       "      <td>NaN</td>\n",
       "      <td>NaN</td>\n",
       "      <td>NaN</td>\n",
       "      <td>NaN</td>\n",
       "      <td>NaN</td>\n",
       "    </tr>\n",
       "    <tr>\n",
       "      <th>3</th>\n",
       "      <td>22sa11a038</td>\n",
       "      <td>Ndaru Febrian Pujo Leksono</td>\n",
       "      <td>Reflektif</td>\n",
       "      <td>Sensing Rendah</td>\n",
       "      <td>Verbal</td>\n",
       "      <td>Global Rendah</td>\n",
       "      <td>NaN</td>\n",
       "      <td>NaN</td>\n",
       "      <td>NaN</td>\n",
       "      <td>NaN</td>\n",
       "      <td>NaN</td>\n",
       "      <td>NaN</td>\n",
       "    </tr>\n",
       "    <tr>\n",
       "      <th>4</th>\n",
       "      <td>22SA11A035</td>\n",
       "      <td>Nurul Khotimah Ansyari</td>\n",
       "      <td>Reflektif</td>\n",
       "      <td>Intuitif Rendah</td>\n",
       "      <td>Verbal</td>\n",
       "      <td>Sequential Rendah</td>\n",
       "      <td>NaN</td>\n",
       "      <td>NaN</td>\n",
       "      <td>NaN</td>\n",
       "      <td>NaN</td>\n",
       "      <td>NaN</td>\n",
       "      <td>NaN</td>\n",
       "    </tr>\n",
       "  </tbody>\n",
       "</table>\n",
       "</div>"
      ],
      "text/plain": [
       "          NIM                                Nama Pemrosesan         Persepsi  \\\n",
       "0  22SA11A074               Mohamad Ridho Mubarok  Reflektif   Sensing Rendah   \n",
       "1  22SA11A134  Maria Angelina Cahyani Candrakasih      Aktif  Intuitif Rendah   \n",
       "2  22SA31A027        Tresnanda Agsifa Cakra Buana  Reflektif   Sensing Sedang   \n",
       "3  22sa11a038          Ndaru Febrian Pujo Leksono  Reflektif   Sensing Rendah   \n",
       "4  22SA11A035              Nurul Khotimah Ansyari  Reflektif  Intuitif Rendah   \n",
       "\n",
       "    Input          Pemahaman  NPM NAMA  time_materials  time_tasks  \\\n",
       "0  Verbal      Global Rendah  NaN  NaN             NaN         NaN   \n",
       "1  Verbal  Sequential Rendah  NaN  NaN             NaN         NaN   \n",
       "2  Visual  Sequential Rendah  NaN  NaN             NaN         NaN   \n",
       "3  Verbal      Global Rendah  NaN  NaN             NaN         NaN   \n",
       "4  Verbal  Sequential Rendah  NaN  NaN             NaN         NaN   \n",
       "\n",
       "   time_forums  time_quizzes  \n",
       "0          NaN           NaN  \n",
       "1          NaN           NaN  \n",
       "2          NaN           NaN  \n",
       "3          NaN           NaN  \n",
       "4          NaN           NaN  "
      ]
     },
     "execution_count": 41,
     "metadata": {},
     "output_type": "execute_result"
    }
   ],
   "source": [
    "df_merged.head()"
   ]
  },
  {
   "cell_type": "code",
   "execution_count": 42,
   "metadata": {
    "id": "dON6VkfnJeTR"
   },
   "outputs": [],
   "source": [
    "# df_merged.to_csv(\"df_merged_output.csv\", index=False)"
   ]
  },
  {
   "cell_type": "code",
   "execution_count": 43,
   "metadata": {
    "colab": {
     "base_uri": "https://localhost:8080/"
    },
    "id": "9nJliX2IYmvs",
    "outputId": "0b5064df-ea9d-4651-dc86-a4dfe6b7be4b"
   },
   "outputs": [
    {
     "data": {
      "text/plain": [
       "['NIM',\n",
       " 'Nama',\n",
       " 'Pemrosesan',\n",
       " 'Persepsi',\n",
       " 'Input',\n",
       " 'Pemahaman',\n",
       " 'NPM',\n",
       " 'NAMA',\n",
       " 'time_materials',\n",
       " 'time_tasks',\n",
       " 'time_forums',\n",
       " 'time_quizzes']"
      ]
     },
     "execution_count": 43,
     "metadata": {},
     "output_type": "execute_result"
    }
   ],
   "source": [
    "df_merged.columns.tolist()"
   ]
  },
  {
   "cell_type": "code",
   "execution_count": 44,
   "metadata": {
    "id": "wg3BMJzEX1du"
   },
   "outputs": [],
   "source": [
    "df_merged_simplified = df_merged[[\n",
    "    'NIM',\n",
    "    'NAMA',\n",
    "    'time_materials',\n",
    "    'time_tasks',\n",
    "    'time_forums',\n",
    "    'time_quizzes',\n",
    "    'Pemrosesan',\n",
    "    'Input',\n",
    "    ]].copy()"
   ]
  },
  {
   "cell_type": "code",
   "execution_count": 45,
   "metadata": {
    "colab": {
     "base_uri": "https://localhost:8080/",
     "height": 206
    },
    "id": "WdORpKPUY0o2",
    "outputId": "82b3bf61-60bc-4583-8949-6434aade4d9c"
   },
   "outputs": [
    {
     "data": {
      "text/html": [
       "<div>\n",
       "<style scoped>\n",
       "    .dataframe tbody tr th:only-of-type {\n",
       "        vertical-align: middle;\n",
       "    }\n",
       "\n",
       "    .dataframe tbody tr th {\n",
       "        vertical-align: top;\n",
       "    }\n",
       "\n",
       "    .dataframe thead th {\n",
       "        text-align: right;\n",
       "    }\n",
       "</style>\n",
       "<table border=\"1\" class=\"dataframe\">\n",
       "  <thead>\n",
       "    <tr style=\"text-align: right;\">\n",
       "      <th></th>\n",
       "      <th>NIM</th>\n",
       "      <th>NAMA</th>\n",
       "      <th>time_materials</th>\n",
       "      <th>time_tasks</th>\n",
       "      <th>time_forums</th>\n",
       "      <th>time_quizzes</th>\n",
       "      <th>Pemrosesan</th>\n",
       "      <th>Input</th>\n",
       "    </tr>\n",
       "  </thead>\n",
       "  <tbody>\n",
       "    <tr>\n",
       "      <th>0</th>\n",
       "      <td>22SA11A074</td>\n",
       "      <td>NaN</td>\n",
       "      <td>NaN</td>\n",
       "      <td>NaN</td>\n",
       "      <td>NaN</td>\n",
       "      <td>NaN</td>\n",
       "      <td>Reflektif</td>\n",
       "      <td>Verbal</td>\n",
       "    </tr>\n",
       "    <tr>\n",
       "      <th>1</th>\n",
       "      <td>22SA11A134</td>\n",
       "      <td>NaN</td>\n",
       "      <td>NaN</td>\n",
       "      <td>NaN</td>\n",
       "      <td>NaN</td>\n",
       "      <td>NaN</td>\n",
       "      <td>Aktif</td>\n",
       "      <td>Verbal</td>\n",
       "    </tr>\n",
       "    <tr>\n",
       "      <th>2</th>\n",
       "      <td>22SA31A027</td>\n",
       "      <td>NaN</td>\n",
       "      <td>NaN</td>\n",
       "      <td>NaN</td>\n",
       "      <td>NaN</td>\n",
       "      <td>NaN</td>\n",
       "      <td>Reflektif</td>\n",
       "      <td>Visual</td>\n",
       "    </tr>\n",
       "    <tr>\n",
       "      <th>3</th>\n",
       "      <td>22sa11a038</td>\n",
       "      <td>NaN</td>\n",
       "      <td>NaN</td>\n",
       "      <td>NaN</td>\n",
       "      <td>NaN</td>\n",
       "      <td>NaN</td>\n",
       "      <td>Reflektif</td>\n",
       "      <td>Verbal</td>\n",
       "    </tr>\n",
       "    <tr>\n",
       "      <th>4</th>\n",
       "      <td>22SA11A035</td>\n",
       "      <td>NaN</td>\n",
       "      <td>NaN</td>\n",
       "      <td>NaN</td>\n",
       "      <td>NaN</td>\n",
       "      <td>NaN</td>\n",
       "      <td>Reflektif</td>\n",
       "      <td>Verbal</td>\n",
       "    </tr>\n",
       "  </tbody>\n",
       "</table>\n",
       "</div>"
      ],
      "text/plain": [
       "          NIM NAMA  time_materials  time_tasks  time_forums  time_quizzes  \\\n",
       "0  22SA11A074  NaN             NaN         NaN          NaN           NaN   \n",
       "1  22SA11A134  NaN             NaN         NaN          NaN           NaN   \n",
       "2  22SA31A027  NaN             NaN         NaN          NaN           NaN   \n",
       "3  22sa11a038  NaN             NaN         NaN          NaN           NaN   \n",
       "4  22SA11A035  NaN             NaN         NaN          NaN           NaN   \n",
       "\n",
       "  Pemrosesan   Input  \n",
       "0  Reflektif  Verbal  \n",
       "1      Aktif  Verbal  \n",
       "2  Reflektif  Visual  \n",
       "3  Reflektif  Verbal  \n",
       "4  Reflektif  Verbal  "
      ]
     },
     "execution_count": 45,
     "metadata": {},
     "output_type": "execute_result"
    }
   ],
   "source": [
    "df_merged_simplified.head()"
   ]
  },
  {
   "cell_type": "code",
   "execution_count": 46,
   "metadata": {
    "colab": {
     "base_uri": "https://localhost:8080/"
    },
    "id": "W021kK3yY76C",
    "outputId": "8ba98f0b-689a-45d4-e86f-a3d8c1f51fd3"
   },
   "outputs": [
    {
     "data": {
      "text/plain": [
       "np.int64(123)"
      ]
     },
     "execution_count": 46,
     "metadata": {},
     "output_type": "execute_result"
    }
   ],
   "source": [
    "df_merged_simplified['NAMA'].notna().sum()"
   ]
  },
  {
   "cell_type": "code",
   "execution_count": 47,
   "metadata": {
    "colab": {
     "base_uri": "https://localhost:8080/"
    },
    "id": "E737Oz8xZXLh",
    "outputId": "92fc46b4-2654-4f20-d6a9-d508e9eb30d6"
   },
   "outputs": [
    {
     "data": {
      "text/plain": [
       "np.int64(123)"
      ]
     },
     "execution_count": 47,
     "metadata": {},
     "output_type": "execute_result"
    }
   ],
   "source": [
    "df_merged_simplified_not_null =  df_merged_simplified[df_merged_simplified['NAMA'].notna()]\n",
    "df_merged_simplified_not_null['NIM'].count()"
   ]
  },
  {
   "cell_type": "code",
   "execution_count": 48,
   "metadata": {
    "colab": {
     "base_uri": "https://localhost:8080/",
     "height": 293
    },
    "id": "D3_Bbl_Tan6u",
    "outputId": "b4652d1b-8753-40ef-cc76-26cd7489bca5"
   },
   "outputs": [
    {
     "data": {
      "text/html": [
       "<div>\n",
       "<style scoped>\n",
       "    .dataframe tbody tr th:only-of-type {\n",
       "        vertical-align: middle;\n",
       "    }\n",
       "\n",
       "    .dataframe tbody tr th {\n",
       "        vertical-align: top;\n",
       "    }\n",
       "\n",
       "    .dataframe thead th {\n",
       "        text-align: right;\n",
       "    }\n",
       "</style>\n",
       "<table border=\"1\" class=\"dataframe\">\n",
       "  <thead>\n",
       "    <tr style=\"text-align: right;\">\n",
       "      <th></th>\n",
       "      <th>NIM</th>\n",
       "      <th>NAMA</th>\n",
       "      <th>time_materials</th>\n",
       "      <th>time_tasks</th>\n",
       "      <th>time_forums</th>\n",
       "      <th>time_quizzes</th>\n",
       "      <th>Pemrosesan</th>\n",
       "      <th>Input</th>\n",
       "    </tr>\n",
       "  </thead>\n",
       "  <tbody>\n",
       "    <tr>\n",
       "      <th>16</th>\n",
       "      <td>23SA21A011</td>\n",
       "      <td>IWAN HARYATNO</td>\n",
       "      <td>49555.0</td>\n",
       "      <td>7610.0</td>\n",
       "      <td>5.0</td>\n",
       "      <td>0.0</td>\n",
       "      <td>Aktif</td>\n",
       "      <td>Visual</td>\n",
       "    </tr>\n",
       "    <tr>\n",
       "      <th>24</th>\n",
       "      <td>23SA11A045</td>\n",
       "      <td>REFIDA SEPTIANA PUTRI</td>\n",
       "      <td>36562.0</td>\n",
       "      <td>0.0</td>\n",
       "      <td>0.0</td>\n",
       "      <td>0.0</td>\n",
       "      <td>Reflektif</td>\n",
       "      <td>Verbal</td>\n",
       "    </tr>\n",
       "    <tr>\n",
       "      <th>29</th>\n",
       "      <td>22SA11A027</td>\n",
       "      <td>WISNU PRATAMA AJI</td>\n",
       "      <td>0.0</td>\n",
       "      <td>0.0</td>\n",
       "      <td>0.0</td>\n",
       "      <td>0.0</td>\n",
       "      <td>Reflektif</td>\n",
       "      <td>Visual</td>\n",
       "    </tr>\n",
       "    <tr>\n",
       "      <th>31</th>\n",
       "      <td>22SA11A289</td>\n",
       "      <td>MAHMUDI</td>\n",
       "      <td>14060.0</td>\n",
       "      <td>0.0</td>\n",
       "      <td>0.0</td>\n",
       "      <td>0.0</td>\n",
       "      <td>Reflektif</td>\n",
       "      <td>Verbal</td>\n",
       "    </tr>\n",
       "    <tr>\n",
       "      <th>36</th>\n",
       "      <td>22SA11A097</td>\n",
       "      <td>ADITYA OKTA SAPUTRA</td>\n",
       "      <td>2071.0</td>\n",
       "      <td>0.0</td>\n",
       "      <td>0.0</td>\n",
       "      <td>0.0</td>\n",
       "      <td>Reflektif</td>\n",
       "      <td>Verbal</td>\n",
       "    </tr>\n",
       "  </tbody>\n",
       "</table>\n",
       "</div>"
      ],
      "text/plain": [
       "           NIM                   NAMA  time_materials  time_tasks  \\\n",
       "16  23SA21A011          IWAN HARYATNO         49555.0      7610.0   \n",
       "24  23SA11A045  REFIDA SEPTIANA PUTRI         36562.0         0.0   \n",
       "29  22SA11A027      WISNU PRATAMA AJI             0.0         0.0   \n",
       "31  22SA11A289                MAHMUDI         14060.0         0.0   \n",
       "36  22SA11A097    ADITYA OKTA SAPUTRA          2071.0         0.0   \n",
       "\n",
       "    time_forums  time_quizzes Pemrosesan   Input  \n",
       "16          5.0           0.0      Aktif  Visual  \n",
       "24          0.0           0.0  Reflektif  Verbal  \n",
       "29          0.0           0.0  Reflektif  Visual  \n",
       "31          0.0           0.0  Reflektif  Verbal  \n",
       "36          0.0           0.0  Reflektif  Verbal  "
      ]
     },
     "execution_count": 48,
     "metadata": {},
     "output_type": "execute_result"
    }
   ],
   "source": [
    "df_merged_simplified_not_null.head()"
   ]
  },
  {
   "cell_type": "markdown",
   "metadata": {
    "id": "HfrQCvsoa58T"
   },
   "source": [
    "## One Hot Encoding"
   ]
  },
  {
   "cell_type": "code",
   "execution_count": 49,
   "metadata": {
    "colab": {
     "base_uri": "https://localhost:8080/"
    },
    "id": "FupKW9-cbCEq",
    "outputId": "9138a278-ea96-4abd-ab61-b5a8a0ecf651"
   },
   "outputs": [
    {
     "name": "stderr",
     "output_type": "stream",
     "text": [
      "/tmp/ipykernel_19669/1202623539.py:1: SettingWithCopyWarning: \n",
      "A value is trying to be set on a copy of a slice from a DataFrame.\n",
      "Try using .loc[row_indexer,col_indexer] = value instead\n",
      "\n",
      "See the caveats in the documentation: https://pandas.pydata.org/pandas-docs/stable/user_guide/indexing.html#returning-a-view-versus-a-copy\n",
      "  df_merged_simplified_not_null['labels'] = df_merged_simplified_not_null[['Pemrosesan', 'Input']].values.tolist()\n"
     ]
    }
   ],
   "source": [
    "df_merged_simplified_not_null['labels'] = df_merged_simplified_not_null[['Pemrosesan', 'Input']].values.tolist()"
   ]
  },
  {
   "cell_type": "code",
   "execution_count": 50,
   "metadata": {
    "colab": {
     "base_uri": "https://localhost:8080/",
     "height": 365
    },
    "id": "fITai2lYb6eN",
    "outputId": "fb03349f-f491-4415-9f73-1e7ee538eef6"
   },
   "outputs": [
    {
     "data": {
      "text/html": [
       "<div>\n",
       "<style scoped>\n",
       "    .dataframe tbody tr th:only-of-type {\n",
       "        vertical-align: middle;\n",
       "    }\n",
       "\n",
       "    .dataframe tbody tr th {\n",
       "        vertical-align: top;\n",
       "    }\n",
       "\n",
       "    .dataframe thead th {\n",
       "        text-align: right;\n",
       "    }\n",
       "</style>\n",
       "<table border=\"1\" class=\"dataframe\">\n",
       "  <thead>\n",
       "    <tr style=\"text-align: right;\">\n",
       "      <th></th>\n",
       "      <th>NIM</th>\n",
       "      <th>NAMA</th>\n",
       "      <th>time_materials</th>\n",
       "      <th>time_tasks</th>\n",
       "      <th>time_forums</th>\n",
       "      <th>time_quizzes</th>\n",
       "      <th>Pemrosesan</th>\n",
       "      <th>Input</th>\n",
       "      <th>labels</th>\n",
       "    </tr>\n",
       "  </thead>\n",
       "  <tbody>\n",
       "    <tr>\n",
       "      <th>16</th>\n",
       "      <td>23SA21A011</td>\n",
       "      <td>IWAN HARYATNO</td>\n",
       "      <td>49555.0</td>\n",
       "      <td>7610.0</td>\n",
       "      <td>5.0</td>\n",
       "      <td>0.0</td>\n",
       "      <td>Aktif</td>\n",
       "      <td>Visual</td>\n",
       "      <td>[Aktif, Visual]</td>\n",
       "    </tr>\n",
       "    <tr>\n",
       "      <th>24</th>\n",
       "      <td>23SA11A045</td>\n",
       "      <td>REFIDA SEPTIANA PUTRI</td>\n",
       "      <td>36562.0</td>\n",
       "      <td>0.0</td>\n",
       "      <td>0.0</td>\n",
       "      <td>0.0</td>\n",
       "      <td>Reflektif</td>\n",
       "      <td>Verbal</td>\n",
       "      <td>[Reflektif, Verbal]</td>\n",
       "    </tr>\n",
       "    <tr>\n",
       "      <th>29</th>\n",
       "      <td>22SA11A027</td>\n",
       "      <td>WISNU PRATAMA AJI</td>\n",
       "      <td>0.0</td>\n",
       "      <td>0.0</td>\n",
       "      <td>0.0</td>\n",
       "      <td>0.0</td>\n",
       "      <td>Reflektif</td>\n",
       "      <td>Visual</td>\n",
       "      <td>[Reflektif, Visual]</td>\n",
       "    </tr>\n",
       "    <tr>\n",
       "      <th>31</th>\n",
       "      <td>22SA11A289</td>\n",
       "      <td>MAHMUDI</td>\n",
       "      <td>14060.0</td>\n",
       "      <td>0.0</td>\n",
       "      <td>0.0</td>\n",
       "      <td>0.0</td>\n",
       "      <td>Reflektif</td>\n",
       "      <td>Verbal</td>\n",
       "      <td>[Reflektif, Verbal]</td>\n",
       "    </tr>\n",
       "    <tr>\n",
       "      <th>36</th>\n",
       "      <td>22SA11A097</td>\n",
       "      <td>ADITYA OKTA SAPUTRA</td>\n",
       "      <td>2071.0</td>\n",
       "      <td>0.0</td>\n",
       "      <td>0.0</td>\n",
       "      <td>0.0</td>\n",
       "      <td>Reflektif</td>\n",
       "      <td>Verbal</td>\n",
       "      <td>[Reflektif, Verbal]</td>\n",
       "    </tr>\n",
       "  </tbody>\n",
       "</table>\n",
       "</div>"
      ],
      "text/plain": [
       "           NIM                   NAMA  time_materials  time_tasks  \\\n",
       "16  23SA21A011          IWAN HARYATNO         49555.0      7610.0   \n",
       "24  23SA11A045  REFIDA SEPTIANA PUTRI         36562.0         0.0   \n",
       "29  22SA11A027      WISNU PRATAMA AJI             0.0         0.0   \n",
       "31  22SA11A289                MAHMUDI         14060.0         0.0   \n",
       "36  22SA11A097    ADITYA OKTA SAPUTRA          2071.0         0.0   \n",
       "\n",
       "    time_forums  time_quizzes Pemrosesan   Input               labels  \n",
       "16          5.0           0.0      Aktif  Visual      [Aktif, Visual]  \n",
       "24          0.0           0.0  Reflektif  Verbal  [Reflektif, Verbal]  \n",
       "29          0.0           0.0  Reflektif  Visual  [Reflektif, Visual]  \n",
       "31          0.0           0.0  Reflektif  Verbal  [Reflektif, Verbal]  \n",
       "36          0.0           0.0  Reflektif  Verbal  [Reflektif, Verbal]  "
      ]
     },
     "execution_count": 50,
     "metadata": {},
     "output_type": "execute_result"
    }
   ],
   "source": [
    "df_merged_simplified_not_null.head()"
   ]
  },
  {
   "cell_type": "code",
   "execution_count": 51,
   "metadata": {
    "colab": {
     "base_uri": "https://localhost:8080/",
     "height": 206
    },
    "id": "Qo4kvj_PdnFS",
    "outputId": "312b041c-4f0d-41c2-8581-2705eb0174d7"
   },
   "outputs": [
    {
     "data": {
      "text/html": [
       "<div>\n",
       "<style scoped>\n",
       "    .dataframe tbody tr th:only-of-type {\n",
       "        vertical-align: middle;\n",
       "    }\n",
       "\n",
       "    .dataframe tbody tr th {\n",
       "        vertical-align: top;\n",
       "    }\n",
       "\n",
       "    .dataframe thead th {\n",
       "        text-align: right;\n",
       "    }\n",
       "</style>\n",
       "<table border=\"1\" class=\"dataframe\">\n",
       "  <thead>\n",
       "    <tr style=\"text-align: right;\">\n",
       "      <th></th>\n",
       "      <th>time_materials</th>\n",
       "      <th>time_tasks</th>\n",
       "      <th>time_forums</th>\n",
       "      <th>time_quizzes</th>\n",
       "      <th>labels</th>\n",
       "    </tr>\n",
       "  </thead>\n",
       "  <tbody>\n",
       "    <tr>\n",
       "      <th>16</th>\n",
       "      <td>49555.0</td>\n",
       "      <td>7610.0</td>\n",
       "      <td>5.0</td>\n",
       "      <td>0.0</td>\n",
       "      <td>[Aktif, Visual]</td>\n",
       "    </tr>\n",
       "    <tr>\n",
       "      <th>24</th>\n",
       "      <td>36562.0</td>\n",
       "      <td>0.0</td>\n",
       "      <td>0.0</td>\n",
       "      <td>0.0</td>\n",
       "      <td>[Reflektif, Verbal]</td>\n",
       "    </tr>\n",
       "    <tr>\n",
       "      <th>29</th>\n",
       "      <td>0.0</td>\n",
       "      <td>0.0</td>\n",
       "      <td>0.0</td>\n",
       "      <td>0.0</td>\n",
       "      <td>[Reflektif, Visual]</td>\n",
       "    </tr>\n",
       "    <tr>\n",
       "      <th>31</th>\n",
       "      <td>14060.0</td>\n",
       "      <td>0.0</td>\n",
       "      <td>0.0</td>\n",
       "      <td>0.0</td>\n",
       "      <td>[Reflektif, Verbal]</td>\n",
       "    </tr>\n",
       "    <tr>\n",
       "      <th>36</th>\n",
       "      <td>2071.0</td>\n",
       "      <td>0.0</td>\n",
       "      <td>0.0</td>\n",
       "      <td>0.0</td>\n",
       "      <td>[Reflektif, Verbal]</td>\n",
       "    </tr>\n",
       "  </tbody>\n",
       "</table>\n",
       "</div>"
      ],
      "text/plain": [
       "    time_materials  time_tasks  time_forums  time_quizzes               labels\n",
       "16         49555.0      7610.0          5.0           0.0      [Aktif, Visual]\n",
       "24         36562.0         0.0          0.0           0.0  [Reflektif, Verbal]\n",
       "29             0.0         0.0          0.0           0.0  [Reflektif, Visual]\n",
       "31         14060.0         0.0          0.0           0.0  [Reflektif, Verbal]\n",
       "36          2071.0         0.0          0.0           0.0  [Reflektif, Verbal]"
      ]
     },
     "execution_count": 51,
     "metadata": {},
     "output_type": "execute_result"
    }
   ],
   "source": [
    "df_merged_simplified_not_null = df_merged_simplified_not_null.drop(columns=['NIM', 'NAMA', 'Pemrosesan', 'Input'])\n",
    "df_merged_simplified_not_null.head()"
   ]
  },
  {
   "cell_type": "code",
   "execution_count": 52,
   "metadata": {
    "id": "ON2Y2Rx8hSMX"
   },
   "outputs": [],
   "source": [
    "df_merged_simplified_not_null.to_csv(\"df_merged_simplified_not_null_output.csv\", index=False)"
   ]
  },
  {
   "cell_type": "code",
   "execution_count": 53,
   "metadata": {
    "colab": {
     "base_uri": "https://localhost:8080/"
    },
    "id": "8lVVY8T1cKS5",
    "outputId": "c0398200-4d7d-4384-a8d9-1a65a5990a0c"
   },
   "outputs": [
    {
     "name": "stdout",
     "output_type": "stream",
     "text": [
      "Label classes: ['Aktif' 'Reflektif' 'Verbal' 'Visual']\n",
      "Encoded labels:\n",
      " [[1 0 0 1]\n",
      " [0 1 1 0]\n",
      " [0 1 0 1]\n",
      " [0 1 1 0]\n",
      " [0 1 1 0]\n",
      " [0 1 1 0]\n",
      " [0 1 0 1]\n",
      " [1 0 1 0]\n",
      " [0 1 1 0]\n",
      " [0 1 1 0]\n",
      " [0 1 1 0]\n",
      " [0 1 1 0]\n",
      " [1 0 1 0]\n",
      " [1 0 1 0]\n",
      " [1 0 1 0]\n",
      " [0 1 1 0]\n",
      " [1 0 1 0]\n",
      " [1 0 0 1]\n",
      " [0 1 1 0]\n",
      " [0 1 0 1]\n",
      " [0 1 1 0]\n",
      " [1 0 1 0]\n",
      " [0 1 1 0]\n",
      " [1 0 1 0]\n",
      " [0 1 0 1]\n",
      " [0 1 1 0]\n",
      " [0 1 1 0]\n",
      " [0 1 1 0]\n",
      " [0 1 1 0]\n",
      " [0 1 0 1]\n",
      " [0 1 1 0]\n",
      " [0 1 1 0]\n",
      " [0 1 1 0]\n",
      " [1 0 1 0]\n",
      " [0 1 0 1]\n",
      " [0 1 0 1]\n",
      " [0 1 1 0]\n",
      " [0 1 1 0]\n",
      " [0 1 0 1]\n",
      " [0 1 1 0]\n",
      " [0 1 1 0]\n",
      " [0 1 1 0]\n",
      " [1 0 1 0]\n",
      " [0 1 1 0]\n",
      " [0 1 1 0]\n",
      " [1 0 1 0]\n",
      " [1 0 1 0]\n",
      " [0 1 0 1]\n",
      " [0 1 1 0]\n",
      " [0 1 1 0]\n",
      " [0 1 1 0]\n",
      " [0 1 1 0]\n",
      " [0 1 0 1]\n",
      " [1 0 1 0]\n",
      " [0 1 1 0]\n",
      " [1 0 1 0]\n",
      " [0 1 0 1]\n",
      " [1 0 1 0]\n",
      " [1 0 1 0]\n",
      " [1 0 1 0]\n",
      " [0 1 1 0]\n",
      " [0 1 1 0]\n",
      " [1 0 1 0]\n",
      " [0 1 1 0]\n",
      " [0 1 1 0]\n",
      " [0 1 1 0]\n",
      " [1 0 1 0]\n",
      " [0 1 1 0]\n",
      " [0 1 1 0]\n",
      " [0 1 0 1]\n",
      " [0 1 1 0]\n",
      " [0 1 0 1]\n",
      " [0 1 0 1]\n",
      " [1 0 1 0]\n",
      " [0 1 1 0]\n",
      " [0 1 1 0]\n",
      " [0 1 1 0]\n",
      " [0 1 1 0]\n",
      " [0 1 1 0]\n",
      " [0 1 1 0]\n",
      " [1 0 1 0]\n",
      " [0 1 1 0]\n",
      " [0 1 0 1]\n",
      " [0 1 1 0]\n",
      " [0 1 1 0]\n",
      " [0 1 0 1]\n",
      " [1 0 1 0]\n",
      " [0 1 1 0]\n",
      " [0 1 1 0]\n",
      " [0 1 1 0]\n",
      " [0 1 1 0]\n",
      " [1 0 1 0]\n",
      " [0 1 1 0]\n",
      " [0 1 1 0]\n",
      " [0 1 1 0]\n",
      " [1 0 1 0]\n",
      " [0 1 1 0]\n",
      " [0 1 1 0]\n",
      " [0 1 1 0]\n",
      " [0 1 1 0]\n",
      " [0 1 1 0]\n",
      " [0 1 1 0]\n",
      " [0 1 1 0]\n",
      " [0 1 1 0]\n",
      " [1 0 0 1]\n",
      " [0 1 0 1]\n",
      " [0 1 1 0]\n",
      " [0 1 1 0]\n",
      " [0 1 0 1]\n",
      " [0 1 0 1]\n",
      " [1 0 0 1]\n",
      " [1 0 1 0]\n",
      " [0 1 0 1]\n",
      " [0 1 1 0]\n",
      " [0 1 0 1]\n",
      " [1 0 1 0]\n",
      " [0 1 1 0]\n",
      " [0 1 0 1]\n",
      " [0 1 1 0]\n",
      " [0 1 1 0]\n",
      " [0 1 1 0]\n",
      " [0 1 0 1]\n",
      " [1 0 1 0]]\n"
     ]
    }
   ],
   "source": [
    "mlb = MultiLabelBinarizer()\n",
    "y = mlb.fit_transform(df_merged_simplified_not_null[\"labels\"])\n",
    "X = df_merged_simplified_not_null.drop(columns=[\"labels\"])\n",
    "\n",
    "print(\"Label classes:\", mlb.classes_)\n",
    "print(\"Encoded labels:\\n\", y)"
   ]
  },
  {
   "cell_type": "markdown",
   "metadata": {
    "id": "YYootmJjQlbH"
   },
   "source": [
    "# Training"
   ]
  },
  {
   "cell_type": "code",
   "execution_count": 54,
   "metadata": {
    "id": "0kKtrFwmQlGY"
   },
   "outputs": [],
   "source": [
    "X_train, X_test, y_train, y_test = train_test_split(X, y, test_size=0.3, random_state=42)"
   ]
  },
  {
   "cell_type": "code",
   "execution_count": 55,
   "metadata": {
    "colab": {
     "base_uri": "https://localhost:8080/"
    },
    "id": "xFDdoDVSdIht",
    "outputId": "1a50c2b3-d570-4e9c-c754-3b154af2ce8f"
   },
   "outputs": [
    {
     "name": "stdout",
     "output_type": "stream",
     "text": [
      "              precision    recall  f1-score   support\n",
      "\n",
      "       Aktif       0.50      0.10      0.17        10\n",
      "   Reflektif       0.74      0.96      0.84        27\n",
      "      Verbal       0.85      0.90      0.88        31\n",
      "      Visual       0.25      0.17      0.20         6\n",
      "\n",
      "   micro avg       0.76      0.76      0.76        74\n",
      "   macro avg       0.59      0.53      0.52        74\n",
      "weighted avg       0.71      0.76      0.71        74\n",
      " samples avg       0.76      0.76      0.76        74\n",
      "\n"
     ]
    }
   ],
   "source": [
    "# 4️⃣ Model Random Forest + MultiOutput wrapper\n",
    "base_model = RandomForestClassifier(n_estimators=100, random_state=42)\n",
    "multi_label_model = MultiOutputClassifier(base_model)\n",
    "multi_label_model.fit(X_train, y_train)\n",
    "\n",
    "# 5️⃣ Prediksi dan evaluasi\n",
    "y_pred = multi_label_model.predict(X_test)\n",
    "print(classification_report(y_test, y_pred, target_names=mlb.classes_))"
   ]
  },
  {
   "cell_type": "markdown",
   "metadata": {
    "id": "tw9RSQCQgucr"
   },
   "source": [
    "# Save"
   ]
  },
  {
   "cell_type": "code",
   "execution_count": 56,
   "metadata": {
    "colab": {
     "base_uri": "https://localhost:8080/"
    },
    "id": "PzXqMUdSgyR9",
    "outputId": "3c1b288b-89c1-4303-bafd-764a2fd0afd9"
   },
   "outputs": [
    {
     "data": {
      "text/plain": [
       "['label_encoder.pkl']"
      ]
     },
     "execution_count": 56,
     "metadata": {},
     "output_type": "execute_result"
    }
   ],
   "source": [
    "# Simpan model\n",
    "joblib.dump(multi_label_model, \"multi_label_model.pkl\")\n",
    "\n",
    "# Simpan juga encoder label\n",
    "joblib.dump(mlb, \"label_encoder.pkl\")"
   ]
  },
  {
   "cell_type": "markdown",
   "metadata": {
    "id": "UuMwvRADg63G"
   },
   "source": [
    "# Load"
   ]
  },
  {
   "cell_type": "code",
   "execution_count": 57,
   "metadata": {
    "colab": {
     "base_uri": "https://localhost:8080/"
    },
    "id": "y4TmYQsKg7_-",
    "outputId": "ec85c92e-797e-4103-b09e-c7fe1cf10067"
   },
   "outputs": [
    {
     "name": "stdout",
     "output_type": "stream",
     "text": [
      "[('Reflektif', 'Verbal')]\n"
     ]
    },
    {
     "name": "stderr",
     "output_type": "stream",
     "text": [
      "/home/didi/Documents/skripsi/klasifikasi-model/myenv/lib/python3.12/site-packages/sklearn/utils/validation.py:2749: UserWarning: X does not have valid feature names, but RandomForestClassifier was fitted with feature names\n",
      "  warnings.warn(\n",
      "/home/didi/Documents/skripsi/klasifikasi-model/myenv/lib/python3.12/site-packages/sklearn/utils/validation.py:2749: UserWarning: X does not have valid feature names, but RandomForestClassifier was fitted with feature names\n",
      "  warnings.warn(\n",
      "/home/didi/Documents/skripsi/klasifikasi-model/myenv/lib/python3.12/site-packages/sklearn/utils/validation.py:2749: UserWarning: X does not have valid feature names, but RandomForestClassifier was fitted with feature names\n",
      "  warnings.warn(\n",
      "/home/didi/Documents/skripsi/klasifikasi-model/myenv/lib/python3.12/site-packages/sklearn/utils/validation.py:2749: UserWarning: X does not have valid feature names, but RandomForestClassifier was fitted with feature names\n",
      "  warnings.warn(\n"
     ]
    }
   ],
   "source": [
    "# Load kembali model dan encoder\n",
    "multi_label_model = joblib.load(\"multi_label_model.pkl\")\n",
    "mlb = joblib.load(\"label_encoder.pkl\")\n",
    "\n",
    "# Contoh input baru\n",
    "X_new = [[7510.0,\t0.0,\t5.0,\t0.0]]\n",
    "\n",
    "# Prediksi\n",
    "y_pred = multi_label_model.predict(X_new)\n",
    "\n",
    "# Konversi hasil kembali ke label asli\n",
    "decoded_labels = mlb.inverse_transform(y_pred)\n",
    "print(decoded_labels)\n"
   ]
  }
 ],
 "metadata": {
  "colab": {
   "provenance": [],
   "toc_visible": true
  },
  "kernelspec": {
   "display_name": "myenv",
   "language": "python",
   "name": "python3"
  },
  "language_info": {
   "codemirror_mode": {
    "name": "ipython",
    "version": 3
   },
   "file_extension": ".py",
   "mimetype": "text/x-python",
   "name": "python",
   "nbconvert_exporter": "python",
   "pygments_lexer": "ipython3",
   "version": "3.12.3"
  }
 },
 "nbformat": 4,
 "nbformat_minor": 0
}
